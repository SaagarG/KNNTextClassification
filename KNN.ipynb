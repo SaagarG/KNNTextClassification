{
  "nbformat": 4,
  "nbformat_minor": 0,
  "metadata": {
    "colab": {
      "name": "Assignment_5_KNN.ipynb",
      "provenance": [],
      "collapsed_sections": []
    },
    "kernelspec": {
      "name": "python3",
      "display_name": "Python 3"
    },
    "accelerator": "GPU"
  },
  "cells": [
    {
      "cell_type": "markdown",
      "metadata": {
        "id": "JEDx4cDZOAVA"
      },
      "source": [
        "# Importing Libraries and functions :"
      ]
    },
    {
      "cell_type": "code",
      "metadata": {
        "id": "D8qyGCx6Z3BQ",
        "cellView": "form"
      },
      "source": [
        "#@title\n",
        "from __future__ import absolute_import as _\n",
        "from __future__ import division as _\n",
        "from __future__ import print_function as _\n",
        "\n",
        "import getpass as _getpass\n",
        "import os as _os\n",
        "import re as _re\n",
        "import socket as _socket\n",
        "import sys as _sys\n",
        "import uuid as _uuid\n",
        "\n",
        "import pexpect as _pexpect\n",
        "\n",
        "__all__ = ['mount']\n",
        "\n",
        "\n",
        "def mount(mountpoint, force_remount=False):\n",
        "  \"\"\"Mount your Google Drive at the specified mountpoint path.\"\"\"\n",
        "\n",
        "  mountpoint = _os.path.expanduser(mountpoint)\n",
        "  # If we've already mounted drive at the specified mountpoint, exit now.\n",
        "  already_mounted = _os.path.isdir(_os.path.join(mountpoint, 'My Drive'))\n",
        "  if not force_remount and already_mounted:\n",
        "    print('Drive already mounted at {}; to attempt to forcibly remount, '\n",
        "          'call drive.mount(\"{}\", force_remount=True).'.format(\n",
        "              mountpoint, mountpoint))\n",
        "    return\n",
        "  home = _os.environ['HOME']\n",
        "  root_dir = _os.path.realpath(\n",
        "      _os.path.join(_os.environ['CLOUDSDK_CONFIG'], '../..'))\n",
        "  inet_family = 'IPV4_ONLY'\n",
        "  dev = '/dev/fuse'\n",
        "  path = '/usr/local/bin:/usr/local/sbin:/usr/bin:/usr/sbin:/bin:/sbin:.'\n",
        "  if len(root_dir) > 1:\n",
        "    home = _os.path.join(root_dir, home)\n",
        "    inet_family = 'IPV6_ONLY'\n",
        "    fum = _os.environ['HOME'].split('mount')[0] + '/mount/alloc/fusermount'\n",
        "    dev = fum + '/dev/fuse'\n",
        "    path = path + ':' + fum + '/bin'\n",
        "  config_dir = _os.path.join(home, '.config', 'Google')\n",
        "  try:\n",
        "    _os.makedirs(config_dir)\n",
        "  except OSError:\n",
        "    if not _os.path.isdir(config_dir):\n",
        "      raise ValueError('{} must be a directory if present'.format(config_dir))\n",
        "\n",
        "  # Launch an intermediate bash inside of which drive is launched, so that\n",
        "  # after auth is done we can daemonize drive with its stdout/err no longer\n",
        "  # being captured by pexpect. Otherwise buffers will eventually fill up and\n",
        "  # drive may hang, because pexpect doesn't have a .startDiscardingOutput()\n",
        "  # call (https://github.com/pexpect/pexpect/issues/54).\n",
        "  prompt = u'root@{}-{}: '.format(_socket.gethostname(), _uuid.uuid4().hex)\n",
        "  d = _pexpect.spawn(\n",
        "      '/bin/bash',\n",
        "      args=['--noediting'],\n",
        "      timeout=120,\n",
        "      maxread=int(1e6),\n",
        "      encoding='utf-8',\n",
        "      env={\n",
        "          'HOME': home,\n",
        "          'FUSE_DEV_NAME': dev,\n",
        "          'PATH': path\n",
        "      })\n",
        "  if mount._DEBUG:  # pylint:disable=protected-access\n",
        "    d.logfile_read = _sys.stdout\n",
        "  d.sendline('export PS1=\"{}\"'.format(prompt))\n",
        "  d.expect(prompt)  # The echoed input above.\n",
        "  d.expect(prompt)  # The new prompt.\n",
        "  # Robustify to previously-running copies of drive. Don't only [pkill -9]\n",
        "  # because that leaves enough cruft behind in the mount table that future\n",
        "  # operations fail with \"Transport endpoint is not connected\".\n",
        "  d.sendline('umount -f {mnt} || umount {mnt}; pkill -9 -x drive'.format(\n",
        "      mnt=mountpoint))\n",
        "  # Wait for above to be received, using the next prompt.\n",
        "  d.expect(u'pkill')  # Echoed command.\n",
        "  d.expect(prompt)\n",
        "  # Only check the mountpoint after potentially unmounting/pkill'ing above.\n",
        "  try:\n",
        "    if _os.path.islink(mountpoint):\n",
        "      raise ValueError('Mountpoint must not be a symlink')\n",
        "    if _os.path.isdir(mountpoint) and _os.listdir(mountpoint):\n",
        "      raise ValueError('Mountpoint must not already contain files')\n",
        "    if not _os.path.isdir(mountpoint) and _os.path.exists(mountpoint):\n",
        "      raise ValueError('Mountpoint must either be a directory or not exist')\n",
        "#    if '/' in mountpoint and not _os.path.exists(_os.path.dirname(mountpoint)):\n",
        "#     raise ValueError('Mountpoint must be in a directory that exists')\n",
        "  except:\n",
        "    d.terminate(force=True)\n",
        "    raise\n",
        "\n",
        "  # Watch for success.\n",
        "  success = u'google.colab.drive MOUNTED'\n",
        "  success_watcher = (\n",
        "      '( while `sleep 0.5`; do if [[ -d \"{m}\" && \"$(ls -A {m})\" != \"\" ]]; '\n",
        "      'then echo \"{s}\"; break; fi; done ) &').format(\n",
        "          m=mountpoint, s=success)\n",
        "  d.sendline(success_watcher)\n",
        "  d.expect(prompt)  # Eat the match of the input command above being echoed.\n",
        "  drive_dir = _os.path.join(root_dir, 'opt/google/drive')\n",
        "  d.sendline(\n",
        "      ('{d}/drive --features=opendir_timeout_ms:15000,virtual_folders:true '\n",
        "       '--inet_family=' + inet_family + ' '\n",
        "       '--preferences=trusted_root_certs_file_path:'\n",
        "       '{d}/roots.pem,mount_point_path:{mnt} --console_auth').format(\n",
        "           d=drive_dir, mnt=mountpoint))\n",
        "\n",
        "  while True:\n",
        "    case = d.expect([\n",
        "        success, prompt,\n",
        "        _re.compile(u'(Go to this URL in a browser: https://.*)\\r\\n')\n",
        "    ])\n",
        "    if case == 0:\n",
        "      break\n",
        "    elif case == 1:\n",
        "      # Prompt appearing here means something went wrong with the drive binary.\n",
        "      d.terminate(force=True)\n",
        "      raise ValueError('mount failed')\n",
        "    elif case == 2:\n",
        "      # Not already authorized, so do the authorization dance.\n",
        "      prompt = d.match.group(1) + '\\n\\nEnter your authorization code:\\n'\n",
        "      d.send(_getpass.getpass(prompt) + '\\n')\n",
        "  d.sendcontrol('z')\n",
        "  d.expect(u'Stopped')\n",
        "  d.sendline('bg; disown; exit')\n",
        "  d.expect(_pexpect.EOF)\n",
        "  assert not d.isalive()\n",
        "  assert d.exitstatus == 0\n",
        "  print('Mounted at {}'.format(mountpoint))\n",
        "\n",
        "\n",
        "mount._DEBUG = False  # pylint:disable=protected-access"
      ],
      "execution_count": null,
      "outputs": []
    },
    {
      "cell_type": "code",
      "metadata": {
        "id": "7_G3tSujDx3u",
        "colab": {
          "base_uri": "https://localhost:8080/",
          "height": 121
        },
        "outputId": "39971fb2-29f7-48e9-8ce8-cd11e8f9bbfc"
      },
      "source": [
        "from google.colab import drive\n",
        "drive.mount('/content/drive')\n",
        "%matplotlib inline\n",
        "\n",
        "import warnings\n",
        "warnings.filterwarnings(\"ignore\")\n",
        "\n",
        "import sqlite3\n",
        "import pandas as pd\n",
        "import numpy as np\n",
        "import nltk\n",
        "import string\n",
        "import matplotlib.pyplot as plt\n",
        "import seaborn as sns\n",
        "from sklearn.feature_extraction.text import TfidfTransformer\n",
        "from sklearn.feature_extraction.text import TfidfVectorizer\n",
        "\n",
        "from sklearn.feature_extraction.text import CountVectorizer\n",
        "from sklearn.model_selection import TimeSeriesSplit\n",
        "from sklearn import metrics\n",
        "from nltk.stem.porter import PorterStemmer\n",
        "\n",
        "import re\n",
        "import string\n",
        "from nltk.corpus import stopwords\n",
        "from nltk.stem import PorterStemmer\n",
        "from nltk.stem.wordnet import WordNetLemmatizer\n",
        "\n",
        "from gensim.models import Word2Vec\n",
        "from gensim.models import KeyedVectors\n",
        "import pickle\n",
        "\n",
        "from tqdm import tqdm\n",
        "import os\n",
        "\n",
        "from sklearn.neighbors import KNeighborsClassifier\n",
        "from sklearn.metrics import roc_curve ,auc ,confusion_matrix \n",
        "from sklearn.decomposition import TruncatedSVD\n",
        "\n",
        "from scipy.spatial.distance import cosine\n",
        "from sklearn.preprocessing import StandardScaler\n",
        "from seaborn import heatmap\n",
        "\n",
        "from prettytable import PrettyTable"
      ],
      "execution_count": null,
      "outputs": [
        {
          "output_type": "stream",
          "text": [
            "Go to this URL in a browser: https://accounts.google.com/o/oauth2/auth?client_id=947318989803-6bn6qk8qdgf4n4g3pfee6491hc0brc4i.apps.googleusercontent.com&redirect_uri=urn%3aietf%3awg%3aoauth%3a2.0%3aoob&response_type=code&scope=email%20https%3a%2f%2fwww.googleapis.com%2fauth%2fdocs.test%20https%3a%2f%2fwww.googleapis.com%2fauth%2fdrive%20https%3a%2f%2fwww.googleapis.com%2fauth%2fdrive.photos.readonly%20https%3a%2f%2fwww.googleapis.com%2fauth%2fpeopleapi.readonly\n",
            "\n",
            "Enter your authorization code:\n",
            "··········\n",
            "Mounted at /content/drive\n"
          ],
          "name": "stdout"
        }
      ]
    },
    {
      "cell_type": "code",
      "metadata": {
        "id": "6XFsQil0JWly",
        "colab": {
          "base_uri": "https://localhost:8080/",
          "height": 302
        },
        "outputId": "3431f75a-eaac-42b9-e882-1bb7e01882a9"
      },
      "source": [
        "# Changing Directory\n",
        "import os\n",
        "os.chdir(\"/content/drive/My Drive/Colab Notebooks\")\n",
        "!ls\n",
        "\n",
        "'''\n",
        "# RAM info\n",
        "!cat /proc/meminfo\n",
        "\n",
        "# CPU info\n",
        "!cat /proc/cpuinfo\n",
        "'''"
      ],
      "execution_count": null,
      "outputs": [
        {
          "output_type": "stream",
          "text": [
            "'02 Amazon Fine Food Reviews Analysis_TSNE.ipynb'\n",
            " 3Layered_CNN_MNIST.ipynb\n",
            " Amz30kTest\n",
            " Amz70kTrain\n",
            " Assignemnt_Keras_Mnist.ipynb\n",
            " Assignemnt_Keras_Mnist_v2.ipynb\n",
            "'Assignment_02 Amazon Fine Food Reviews Analysis_TSNE.ipynb'\n",
            "'Assignment_07_Support Vector Machines.ipynb'\n",
            " best_model2L.h5\n",
            " best_model3L.h5\n",
            " best_model5L.h5\n",
            "'Copy of 1.Python Assignment.ipynb'\n",
            "'Copy of Recommendation_system_assignment.ipynb'\n",
            " database.sqlite\n",
            " __pycache__\n",
            " RBF_SVM_GridModels\n"
          ],
          "name": "stdout"
        },
        {
          "output_type": "execute_result",
          "data": {
            "text/plain": [
              "'\\n# RAM info\\n!cat /proc/meminfo\\n\\n# CPU info\\n!cat /proc/cpuinfo\\n'"
            ]
          },
          "metadata": {
            "tags": []
          },
          "execution_count": 3
        }
      ]
    },
    {
      "cell_type": "code",
      "metadata": {
        "id": "5H-A8Br1Dx4A",
        "colab": {
          "base_uri": "https://localhost:8080/",
          "height": 652
        },
        "outputId": "9c95c686-80bc-4bcf-ac1e-042abd964894"
      },
      "source": [
        "con = sqlite3.connect('database.sqlite') \n",
        "not_3_data = pd.read_sql_query(\"\"\" SELECT * FROM Reviews WHERE Score != 3 \"\"\", con) \n",
        "\n",
        "def partition(x):\n",
        "        if x < 3:\n",
        "                return 0\n",
        "        else :\n",
        "                return 1\n",
        "\n",
        "# Re-Labeling scores 0 for '<3' and 1 for '>3'  \n",
        "ActualScore = not_3_data[\"Score\"]\n",
        "PosNeg = ActualScore.map(partition)\n",
        "not_3_data[\"Score\"] = PosNeg\n",
        "\n",
        "#checking heads of Dataset\n",
        "not_3_data.head()"
      ],
      "execution_count": null,
      "outputs": [
        {
          "output_type": "execute_result",
          "data": {
            "text/html": [
              "<div>\n",
              "<style scoped>\n",
              "    .dataframe tbody tr th:only-of-type {\n",
              "        vertical-align: middle;\n",
              "    }\n",
              "\n",
              "    .dataframe tbody tr th {\n",
              "        vertical-align: top;\n",
              "    }\n",
              "\n",
              "    .dataframe thead th {\n",
              "        text-align: right;\n",
              "    }\n",
              "</style>\n",
              "<table border=\"1\" class=\"dataframe\">\n",
              "  <thead>\n",
              "    <tr style=\"text-align: right;\">\n",
              "      <th></th>\n",
              "      <th>Id</th>\n",
              "      <th>ProductId</th>\n",
              "      <th>UserId</th>\n",
              "      <th>ProfileName</th>\n",
              "      <th>HelpfulnessNumerator</th>\n",
              "      <th>HelpfulnessDenominator</th>\n",
              "      <th>Score</th>\n",
              "      <th>Time</th>\n",
              "      <th>Summary</th>\n",
              "      <th>Text</th>\n",
              "    </tr>\n",
              "  </thead>\n",
              "  <tbody>\n",
              "    <tr>\n",
              "      <th>0</th>\n",
              "      <td>1</td>\n",
              "      <td>B001E4KFG0</td>\n",
              "      <td>A3SGXH7AUHU8GW</td>\n",
              "      <td>delmartian</td>\n",
              "      <td>1</td>\n",
              "      <td>1</td>\n",
              "      <td>1</td>\n",
              "      <td>1303862400</td>\n",
              "      <td>Good Quality Dog Food</td>\n",
              "      <td>I have bought several of the Vitality canned d...</td>\n",
              "    </tr>\n",
              "    <tr>\n",
              "      <th>1</th>\n",
              "      <td>2</td>\n",
              "      <td>B00813GRG4</td>\n",
              "      <td>A1D87F6ZCVE5NK</td>\n",
              "      <td>dll pa</td>\n",
              "      <td>0</td>\n",
              "      <td>0</td>\n",
              "      <td>0</td>\n",
              "      <td>1346976000</td>\n",
              "      <td>Not as Advertised</td>\n",
              "      <td>Product arrived labeled as Jumbo Salted Peanut...</td>\n",
              "    </tr>\n",
              "    <tr>\n",
              "      <th>2</th>\n",
              "      <td>3</td>\n",
              "      <td>B000LQOCH0</td>\n",
              "      <td>ABXLMWJIXXAIN</td>\n",
              "      <td>Natalia Corres \"Natalia Corres\"</td>\n",
              "      <td>1</td>\n",
              "      <td>1</td>\n",
              "      <td>1</td>\n",
              "      <td>1219017600</td>\n",
              "      <td>\"Delight\" says it all</td>\n",
              "      <td>This is a confection that has been around a fe...</td>\n",
              "    </tr>\n",
              "    <tr>\n",
              "      <th>3</th>\n",
              "      <td>4</td>\n",
              "      <td>B000UA0QIQ</td>\n",
              "      <td>A395BORC6FGVXV</td>\n",
              "      <td>Karl</td>\n",
              "      <td>3</td>\n",
              "      <td>3</td>\n",
              "      <td>0</td>\n",
              "      <td>1307923200</td>\n",
              "      <td>Cough Medicine</td>\n",
              "      <td>If you are looking for the secret ingredient i...</td>\n",
              "    </tr>\n",
              "    <tr>\n",
              "      <th>4</th>\n",
              "      <td>5</td>\n",
              "      <td>B006K2ZZ7K</td>\n",
              "      <td>A1UQRSCLF8GW1T</td>\n",
              "      <td>Michael D. Bigham \"M. Wassir\"</td>\n",
              "      <td>0</td>\n",
              "      <td>0</td>\n",
              "      <td>1</td>\n",
              "      <td>1350777600</td>\n",
              "      <td>Great taffy</td>\n",
              "      <td>Great taffy at a great price.  There was a wid...</td>\n",
              "    </tr>\n",
              "  </tbody>\n",
              "</table>\n",
              "</div>"
            ],
            "text/plain": [
              "   Id  ...                                               Text\n",
              "0   1  ...  I have bought several of the Vitality canned d...\n",
              "1   2  ...  Product arrived labeled as Jumbo Salted Peanut...\n",
              "2   3  ...  This is a confection that has been around a fe...\n",
              "3   4  ...  If you are looking for the secret ingredient i...\n",
              "4   5  ...  Great taffy at a great price.  There was a wid...\n",
              "\n",
              "[5 rows x 10 columns]"
            ]
          },
          "metadata": {
            "tags": []
          },
          "execution_count": 4
        }
      ]
    },
    {
      "cell_type": "markdown",
      "metadata": {
        "id": "9ZK57OM2Dx4N"
      },
      "source": [
        "# Data Cleaning :"
      ]
    },
    {
      "cell_type": "code",
      "metadata": {
        "id": "PecAflZnDx4Q",
        "colab": {
          "base_uri": "https://localhost:8080/",
          "height": 123
        },
        "outputId": "94219b7e-6625-40e8-8c42-ed024981a7e0"
      },
      "source": [
        "# Sorting Data \n",
        "sorted_data = not_3_data.sort_values('Time', axis=0, ascending=True, inplace=False, kind='quicksort', na_position='last')\n",
        "\n",
        "# De-Duplication of rows in Dataset -- Primary Key (\"UserId\",\"Profile Name\",\"Time\",\"Text\")\n",
        "final=sorted_data.drop_duplicates(subset={\"UserId\",\"ProfileName\",\"Time\",\"Text\"}, keep='first', inplace=False)\n",
        "\n",
        "# Helpfulness Denominator always greater than Helpfulness Numerator ,removing rows that don't follow the same: \n",
        "final=final[final.HelpfulnessNumerator<=final.HelpfulnessDenominator]\n",
        "print(\"Dimensions are : \",final.shape)\n",
        "\n",
        "g=final.groupby('Score',as_index = False)\n",
        "g.count()"
      ],
      "execution_count": null,
      "outputs": [
        {
          "output_type": "stream",
          "text": [
            "Dimensions are :  (364171, 10)\n"
          ],
          "name": "stdout"
        },
        {
          "output_type": "execute_result",
          "data": {
            "text/html": [
              "<div>\n",
              "<style scoped>\n",
              "    .dataframe tbody tr th:only-of-type {\n",
              "        vertical-align: middle;\n",
              "    }\n",
              "\n",
              "    .dataframe tbody tr th {\n",
              "        vertical-align: top;\n",
              "    }\n",
              "\n",
              "    .dataframe thead th {\n",
              "        text-align: right;\n",
              "    }\n",
              "</style>\n",
              "<table border=\"1\" class=\"dataframe\">\n",
              "  <thead>\n",
              "    <tr style=\"text-align: right;\">\n",
              "      <th></th>\n",
              "      <th>Score</th>\n",
              "      <th>Id</th>\n",
              "      <th>ProductId</th>\n",
              "      <th>UserId</th>\n",
              "      <th>ProfileName</th>\n",
              "      <th>HelpfulnessNumerator</th>\n",
              "      <th>HelpfulnessDenominator</th>\n",
              "      <th>Time</th>\n",
              "      <th>Summary</th>\n",
              "      <th>Text</th>\n",
              "    </tr>\n",
              "  </thead>\n",
              "  <tbody>\n",
              "    <tr>\n",
              "      <th>0</th>\n",
              "      <td>0</td>\n",
              "      <td>57110</td>\n",
              "      <td>57110</td>\n",
              "      <td>57110</td>\n",
              "      <td>57110</td>\n",
              "      <td>57110</td>\n",
              "      <td>57110</td>\n",
              "      <td>57110</td>\n",
              "      <td>57110</td>\n",
              "      <td>57110</td>\n",
              "    </tr>\n",
              "    <tr>\n",
              "      <th>1</th>\n",
              "      <td>1</td>\n",
              "      <td>307061</td>\n",
              "      <td>307061</td>\n",
              "      <td>307061</td>\n",
              "      <td>307061</td>\n",
              "      <td>307061</td>\n",
              "      <td>307061</td>\n",
              "      <td>307061</td>\n",
              "      <td>307061</td>\n",
              "      <td>307061</td>\n",
              "    </tr>\n",
              "  </tbody>\n",
              "</table>\n",
              "</div>"
            ],
            "text/plain": [
              "   Score      Id  ProductId  ...    Time  Summary    Text\n",
              "0      0   57110      57110  ...   57110    57110   57110\n",
              "1      1  307061     307061  ...  307061   307061  307061\n",
              "\n",
              "[2 rows x 10 columns]"
            ]
          },
          "metadata": {
            "tags": []
          },
          "execution_count": 5
        }
      ]
    },
    {
      "cell_type": "markdown",
      "metadata": {
        "id": "V8Ma1zjIDx4b"
      },
      "source": [
        "## Taking latest 50k and 20k reviews from 364k reviews : (No random sampling to be done as time based order of reviews matters)\n",
        "#### Just for the sake of less computational time."
      ]
    },
    {
      "cell_type": "code",
      "metadata": {
        "id": "OyQbGOaJDx4e",
        "colab": {
          "base_uri": "https://localhost:8080/",
          "height": 118
        },
        "outputId": "db12fdee-067a-4199-af86-775c98cff511"
      },
      "source": [
        "fin50kSample = final.tail(n = 50000)\n",
        "fin20kSample = final.tail(n = 20000)\n",
        "\n",
        "# Just to check whether the distribution of Score is same or not.\n",
        "g = fin50kSample.groupby('Score' , as_index = False)\n",
        "print(g.count()['Id'])\n",
        "g = fin20kSample.groupby('Score' , as_index = False)\n",
        "print(g.count()['Id'])\n",
        "\n",
        "#just to free up some amount of RAM\n",
        "final=[];sorted_data=[];not_3_data=[];con=[];"
      ],
      "execution_count": null,
      "outputs": [
        {
          "output_type": "stream",
          "text": [
            "0     8637\n",
            "1    41363\n",
            "Name: Id, dtype: int64\n",
            "0     3381\n",
            "1    16619\n",
            "Name: Id, dtype: int64\n"
          ],
          "name": "stdout"
        }
      ]
    },
    {
      "cell_type": "code",
      "metadata": {
        "id": "mec2BUdbDx4o",
        "colab": {
          "base_uri": "https://localhost:8080/",
          "height": 50
        },
        "outputId": "deff247c-1dba-4b5f-ba5a-c26d9a7e3f82"
      },
      "source": [
        "# Removing HTML Tags, Stopwords, Punctuations and stemming\n",
        "nltk.download('stopwords')\n",
        "\n",
        "stop = set(stopwords.words('english')) #set of stopwords\n",
        "sno = nltk.stem.SnowballStemmer('english') #initialising the snowball stemmer\n",
        "\n",
        "def cleanhtml(sentence): #function to clean the word of any html-tags\n",
        "    cleanr = re.compile('<.*?>')\n",
        "    cleantext = re.sub(cleanr, ' ', sentence)\n",
        "    return cleantext\n",
        "def cleanpunc(sentence): #function to clean the word of any punctuation or special characters\n",
        "    cleaned = re.sub(r'[?|!|\\'|\"|#]',r'',sentence)\n",
        "    \n",
        "    cleaned = re.sub(r'[.|,|)|(|\\|/]',r' ',cleaned)\n",
        "    return  cleaned"
      ],
      "execution_count": null,
      "outputs": [
        {
          "output_type": "stream",
          "text": [
            "[nltk_data] Downloading package stopwords to /root/nltk_data...\n",
            "[nltk_data]   Unzipping corpora/stopwords.zip.\n"
          ],
          "name": "stdout"
        }
      ]
    },
    {
      "cell_type": "code",
      "metadata": {
        "id": "oBd5y43YDx4w",
        "colab": {
          "base_uri": "https://localhost:8080/",
          "height": 50
        },
        "outputId": "e29ee3a3-e4e4-4e0a-c46b-52fdc1ba05e1"
      },
      "source": [
        "final_string=[];i=0;\n",
        "for sent in tqdm(fin50kSample['Text'].values):\n",
        "    filtered_sentence=[]\n",
        "    sent=cleanhtml(sent)\n",
        "    for w in sent.split():\n",
        "        for cleaned_words in cleanpunc(w).split():\n",
        "            if((cleaned_words.isalpha()) & (len(cleaned_words)>2)):    \n",
        "                if(cleaned_words.lower() not in stop):\n",
        "                    s=(sno.stem(cleaned_words.lower())).encode('utf8')\n",
        "                    filtered_sentence.append(s)\n",
        "    str1 = b\" \".join(filtered_sentence)\n",
        "    final_string.append(str1);i+=1;\n",
        "fin50kSample['CleanedText']=final_string\n",
        "fin50kSample['CleanedText']=fin50kSample['CleanedText'].str.decode(\"utf-8\")\n",
        "\n",
        "final_string=[];i=0;\n",
        "for sent in tqdm(fin20kSample['Text'].values):\n",
        "    filtered_sentence=[]\n",
        "    sent=cleanhtml(sent)\n",
        "    for w in sent.split():\n",
        "        for cleaned_words in cleanpunc(w).split():\n",
        "            if((cleaned_words.isalpha()) & (len(cleaned_words)>2)):    \n",
        "                if(cleaned_words.lower() not in stop):\n",
        "                    s=(sno.stem(cleaned_words.lower())).encode('utf8')\n",
        "                    filtered_sentence.append(s)\n",
        "    str1 = b\" \".join(filtered_sentence)\n",
        "    final_string.append(str1);i+=1;\n",
        "fin20kSample['CleanedText']=final_string\n",
        "fin20kSample['CleanedText']=fin20kSample['CleanedText'].str.decode(\"utf-8\")\n"
      ],
      "execution_count": null,
      "outputs": [
        {
          "output_type": "stream",
          "text": [
            "100%|██████████| 50000/50000 [00:38<00:00, 1301.16it/s]\n",
            "100%|██████████| 20000/20000 [00:14<00:00, 1347.17it/s]\n"
          ],
          "name": "stderr"
        }
      ]
    },
    {
      "cell_type": "code",
      "metadata": {
        "id": "woFPZq-BDx47",
        "colab": {
          "base_uri": "https://localhost:8080/",
          "height": 50
        },
        "outputId": "194969fd-4768-4f0c-a828-f2565d9dcb2d"
      },
      "source": [
        "# Sampling 50k points for train(70%) and test(30%) in brute force implementation of kNN\n",
        "nrow, ncol = fin50kSample.shape\n",
        "\n",
        "final_50ktrain = fin50kSample.head(n = round(nrow*0.7))\n",
        "final_50ktest = fin50kSample.tail(n = nrow-round(nrow*0.7))\n",
        "\n",
        "print(\"Dimensions of Train and Test Dataset of 50k samples is \",final_50ktrain.shape,\"&\",final_50ktest.shape,\"resp.\")\n",
        "\n",
        "# Sampling 20k points for train(70%) and test(30%) in kd tree implementation of kNN\n",
        "nrow, ncol = fin20kSample.shape\n",
        "\n",
        "final_20ktrain = fin20kSample.head(n = round(nrow*0.7))\n",
        "final_20ktest = fin20kSample.tail(n = nrow-round(nrow*0.7))\n",
        "\n",
        "\n",
        "print(\"Dimensions of Train and Test Dataset of 20k samples is \",final_20ktrain.shape,\"&\",final_20ktest.shape,\"resp.\")\n"
      ],
      "execution_count": null,
      "outputs": [
        {
          "output_type": "stream",
          "text": [
            "Dimensions of Train and Test Dataset of 50k samples is  (35000, 11) & (15000, 11) resp.\n",
            "Dimensions of Train and Test Dataset of 20k samples is  (14000, 11) & (6000, 11) resp.\n"
          ],
          "name": "stdout"
        }
      ]
    },
    {
      "cell_type": "code",
      "metadata": {
        "id": "1ShH24ZRifCw"
      },
      "source": [
        "def find_best_threshold(threshold, fpr, tpr):\n",
        "    t = threshold[np.argmax(tpr*(1-fpr))]\n",
        "    # (tpr*(1-fpr)) will be maximum if your fpr is very low and tpr is very high\n",
        "    print(\"the maximum value of tpr*(1-fpr)\", max(tpr*(1-fpr)), \"for threshold\", np.round(t,3))\n",
        "    return t\n",
        "\n",
        "def predict_with_best_t(proba, threshold):\n",
        "    predictions = []\n",
        "    for i in proba:\n",
        "        if i>=threshold:\n",
        "            predictions.append(1)\n",
        "        else:\n",
        "            predictions.append(0)\n",
        "    return predictions"
      ],
      "execution_count": null,
      "outputs": []
    },
    {
      "cell_type": "markdown",
      "metadata": {
        "id": "f5LWVL_kDx5I"
      },
      "source": [
        "# kNN for BoW encoding:\n",
        "\n",
        "**using kd-tree algorithm , hyperparameter tuning - ploting k v/s AUROC for Validation dataset and Train dataset **"
      ]
    },
    {
      "cell_type": "code",
      "metadata": {
        "id": "pMiN8T-0Dx5L",
        "colab": {
          "base_uri": "https://localhost:8080/",
          "height": 313
        },
        "outputId": "a5be03d8-27ee-43ea-c439-13af782b1413"
      },
      "source": [
        "myList = list(range(3,61,2));\n",
        "\n",
        "tcvs = TimeSeriesSplit(n_splits = 10, max_train_size = round(final_20ktrain.shape[0]*0.9))\n",
        "ValMeanScore=[]; TrainMeanScore=[];\n",
        "count_vect = CountVectorizer(ngram_range=(1,2), min_df = 10, max_features = 500)\n",
        "\n",
        "for k in tqdm(myList) :\n",
        "    \n",
        "    ValScore=[];TrainScore=[];\n",
        "    knn = KNeighborsClassifier(n_neighbors=k ,algorithm = \"kd_tree\")\n",
        "    \n",
        "    for train ,val in tcvs.split(final_20ktrain) :\n",
        "        \n",
        "        Xtrain_bigrams = count_vect.fit_transform(final_20ktrain.iloc[train]['CleanedText'].values)\n",
        "        scaler = StandardScaler(with_mean = False)\n",
        "        scaler.fit_transform(Xtrain_bigrams)\n",
        "        \n",
        "        Xval_bigrams = count_vect.transform(final_20ktrain.iloc[val]['CleanedText'].values)\n",
        "        scaler.transform(Xval_bigrams)\n",
        "                \n",
        "        Ytrain_labels = final_20ktrain.iloc[train]['Score']\n",
        "        Yval_labels = final_20ktrain.iloc[val]['Score']\n",
        "        \n",
        "        knn.fit(Xtrain_bigrams.toarray(), Ytrain_labels)\n",
        "        \n",
        "        predOnVal = knn.predict_proba(Xval_bigrams.toarray())\n",
        "        predOnTrain = knn.predict_proba(Xtrain_bigrams.toarray())\n",
        "        \n",
        "        fpr,tpr,_ = roc_curve(Yval_labels, predOnVal[:,1])\n",
        "        AUCOnVal = auc(fpr,tpr)\n",
        "        fpr,tpr,_ = roc_curve(Ytrain_labels, predOnTrain[:,1])\n",
        "        AUCOnTrain = auc(fpr,tpr)\n",
        "        \n",
        "        ValScore.append(AUCOnVal)\n",
        "        TrainScore.append(AUCOnTrain)\n",
        "        \n",
        "    ValMeanScore.append((k,sum(ValScore)/len(ValScore)))\n",
        "    TrainMeanScore.append((k,sum(TrainScore)/len(TrainScore)))\n",
        "    \n",
        "#just to free up some memory space :\n",
        "Xval_bigrams =[];train=[];val=[];\n",
        "\n",
        "ValMeanScore = dict(ValMeanScore)\n",
        "TrainMeanScore = dict(TrainMeanScore)\n",
        "\n",
        "#Bestk = list(ValMeanScore.keys())[list(ValMeanScore.values()).index(max(ValMeanScore.values()))]\n",
        "\n",
        "plt.plot(ValMeanScore.keys(), ValMeanScore.values(), \"ro\", label = \"Performance on Validation Data\")\n",
        "plt.plot(TrainMeanScore.keys(), TrainMeanScore.values(),\"go\", label = \"Performance on Training Data\")\n",
        "plt.legend()\n",
        "plt.xlabel(\"k values\")\n",
        "plt.ylabel(\"AUROC score\")\n"
      ],
      "execution_count": null,
      "outputs": [
        {
          "output_type": "stream",
          "text": [
            "100%|██████████| 29/29 [5:15:48<00:00, 647.74s/it]\n"
          ],
          "name": "stderr"
        },
        {
          "output_type": "execute_result",
          "data": {
            "text/plain": [
              "Text(0, 0.5, 'AUROC score')"
            ]
          },
          "metadata": {
            "tags": []
          },
          "execution_count": 22
        },
        {
          "output_type": "display_data",
          "data": {
            "image/png": "[encoded data removed]",
            "text/plain": [
              "<Figure size 432x288 with 1 Axes>"
            ]
          },
          "metadata": {
            "tags": []
          }
        }
      ]
    },
    {
      "cell_type": "markdown",
      "metadata": {
        "id": "2NKFdwh64T8v"
      },
      "source": [
        "**Performance on Test Data with optimal k value , ROC Curves and Confusion Matrix**"
      ]
    },
    {
      "cell_type": "code",
      "metadata": {
        "id": "5c9QX3kF4KRX",
        "colab": {
          "base_uri": "https://localhost:8080/",
          "height": 677
        },
        "outputId": "f5627a56-3ace-4927-e106-3219b4d0194d"
      },
      "source": [
        "count_vect = CountVectorizer(ngram_range=(1,2), min_df = 10, max_features = 500)\n",
        "\n",
        "Xtrain_bigrams = count_vect.fit_transform(final_20ktrain['CleanedText'].values)\n",
        "scaler = StandardScaler(with_mean = False)\n",
        "scaler.fit_transform(Xtrain_bigrams)\n",
        "\n",
        "Xtest_bigrams = count_vect.transform(final_20ktest['CleanedText'].values)\n",
        "scaler.transform(Xtest_bigrams)\n",
        "\n",
        "knn = KNeighborsClassifier(n_neighbors = 59 , algorithm = 'kd_tree')\n",
        "\n",
        "knn.fit(Xtrain_bigrams.toarray(), final_20ktrain['Score'])\n",
        "predOnTest = knn.predict_proba(Xtest_bigrams.toarray())\n",
        "predOnTrain = knn.predict_proba(Xtrain_bigrams.toarray())\n",
        "\n",
        "Trainfpr,Traintpr,Trthrsh = roc_curve(final_20ktrain['Score'], predOnTrain[:,1])\n",
        "train_auc = auc(Trainfpr,Traintpr)\n",
        "\n",
        "Testfpr,Testtpr,Tsthrsh = roc_curve(final_20ktest['Score'], predOnTest[:,1])\n",
        "test_auc = auc(Testfpr,Testtpr)\n",
        "\n",
        "print(\"*************************************************************************************\")\n",
        "print(\"Performance on test and train data is\", test_auc,\"&\",train_auc,\"resp.\")\n",
        "print(\"*************************************************************************************\")\n",
        "\n",
        "Xtrain_bigrams=[];\n",
        "\n",
        "## Ploting ROC curve\n",
        "plt.title('Receiver Operating Characteristic')\n",
        "plt.plot(Trainfpr, Traintpr, 'b', label = 'AUC for Train Data = %0.2f' % train_auc)\n",
        "plt.plot(Testfpr, Testtpr, 'r', label = 'AUC for Test Data = %0.2f' % test_auc)\n",
        "plt.legend(loc = 'lower right')\n",
        "plt.plot([0, 1], [0, 1],'r--')\n",
        "plt.xlim([0, 1])\n",
        "plt.ylim([0, 1])\n",
        "plt.ylabel('True Positive Rate')\n",
        "plt.xlabel('False Positive Rate')\n",
        "plt.show()\n",
        "\n",
        "best_t = find_best_threshold(Tsthrsh, Testfpr, Testtpr)\n",
        "\n",
        "print(\"*************************************************************************************\\n\")\n",
        "\n",
        "print(\"Best threshold from the above ROC curve on Test data is \", best_t)\n",
        "\n",
        "print(\"*************************************************************************************\\n\")\n",
        "\n",
        "class_names = [1,0]\n",
        "confMat=confusion_matrix(final_20ktest['Score'], predict_with_best_t(predOnTest[:,1], best_t), labels = class_names)\n",
        "df_cm = pd.DataFrame(confMat, index=class_names, columns=class_names)\n",
        "fig = plt.figure(figsize=(5,3))\n",
        "heatmap = sns.heatmap(df_cm, annot=True, fmt=\"d\")\n",
        "heatmap.yaxis.set_ticklabels(heatmap.yaxis.get_ticklabels(), rotation=0, ha='right', fontsize=14)\n",
        "heatmap.xaxis.set_ticklabels(heatmap.xaxis.get_ticklabels(), rotation=45, ha='right', fontsize=14)\n",
        "plt.ylabel('True label')\n",
        "plt.xlabel('Predicted label')\n"
      ],
      "execution_count": null,
      "outputs": [
        {
          "output_type": "stream",
          "text": [
            "*************************************************************************************\n",
            "Performance on test and train data is 0.7972282132709919 & 0.8327269765945877 resp.\n",
            "*************************************************************************************\n"
          ],
          "name": "stdout"
        },
        {
          "output_type": "display_data",
          "data": {
            "image/png": "[encoded data removed]",
            "text/plain": [
              "<Figure size 432x288 with 1 Axes>"
            ]
          },
          "metadata": {
            "tags": [],
            "needs_background": "light"
          }
        },
        {
          "output_type": "stream",
          "text": [
            "the maximum value of tpr*(1-fpr) 0.5192638078588767 for threshold 0.814\n",
            "*************************************************************************************\n",
            "\n",
            "Best threshold from the above ROC curve on Test data is  0.8135593220338984\n",
            "*************************************************************************************\n",
            "\n"
          ],
          "name": "stdout"
        },
        {
          "output_type": "execute_result",
          "data": {
            "text/plain": [
              "Text(0.5, 6.0, 'Predicted label')"
            ]
          },
          "metadata": {
            "tags": []
          },
          "execution_count": 14
        },
        {
          "output_type": "display_data",
          "data": {
            "image/png": "[encoded data removed]",
            "text/plain": [
              "<Figure size 360x216 with 2 Axes>"
            ]
          },
          "metadata": {
            "tags": [],
            "needs_background": "light"
          }
        }
      ]
    },
    {
      "cell_type": "markdown",
      "metadata": {
        "id": "esZXbjmBDTGU"
      },
      "source": [
        "**using Brute Force algorithm , hyperparameter tuning - ploting k v/s AUROC for Validation dataset and Train dataset **"
      ]
    },
    {
      "cell_type": "code",
      "metadata": {
        "id": "lws_6E4MDx5W",
        "colab": {
          "base_uri": "https://localhost:8080/",
          "height": 313
        },
        "outputId": "ffb7f8c5-cbf2-4522-9287-04d93a43f150"
      },
      "source": [
        "myList = list(range(3,61,2));\n",
        "\n",
        "tcvs = TimeSeriesSplit(n_splits = 10, max_train_size = round(final_50ktrain.shape[0]*0.9))\n",
        "TrainMeanScore=[];ValMeanScore=[];\n",
        "\n",
        "count_vect = CountVectorizer(ngram_range=(1,2))\n",
        "\n",
        "for k in tqdm(myList) :\n",
        "  \n",
        "    ValScore=[]; TrainScore=[];\n",
        "    knn = KNeighborsClassifier(n_neighbors=k, algorithm = \"brute\")\n",
        "    \n",
        "    for train , val in tcvs.split(final_50ktrain) :\n",
        "        \n",
        "        Xtrain_bigrams = count_vect.fit_transform(final_50ktrain.iloc[train]['CleanedText'].values)\n",
        "        scaler = StandardScaler(with_mean=False) \n",
        "        scaler.fit_transform(Xtrain_bigrams)\n",
        "        \n",
        "        Xval_bigrams = count_vect.transform(final_50ktrain.iloc[val]['CleanedText'].values)\n",
        "        scaler.transform(Xval_bigrams)\n",
        "\n",
        "        knn.fit(Xtrain_bigrams, final_50ktrain.iloc[train]['Score'])\n",
        "        predOnVal = knn.predict_proba(Xval_bigrams)\n",
        "        predOnTrain = knn.predict_proba(Xtrain_bigrams)\n",
        "        \n",
        "        fpr,tpr,_ = roc_curve(final_50ktrain.iloc[val]['Score'], predOnVal[:,1])\n",
        "        AUCOnVal = auc(fpr,tpr)\n",
        "        fpr,tpr,_ = roc_curve(final_50ktrain.iloc[train]['Score'], predOnTrain[:,1])\n",
        "        AUCOnTrain = auc(fpr,tpr)\n",
        "        \n",
        "        ValScore.append(AUCOnVal)\n",
        "        TrainScore.append(AUCOnTrain)\n",
        "    \n",
        "    TrainMeanScore.append((k,sum(TrainScore)/len(TrainScore)))\n",
        "    ValMeanScore.append((k,sum(ValScore)/len(ValScore)))\n",
        "\n",
        "\n",
        "TrainMeanScore = dict(TrainMeanScore)\n",
        "ValMeanScore = dict(ValMeanScore)\n",
        "\n",
        "plt.plot(ValMeanScore.keys(), ValMeanScore.values(), \"ro\", label = \"Performance on Validation Data\")\n",
        "plt.plot(TrainMeanScore.keys(), TrainMeanScore.values(),\"go\", label = \"Performance on Training Data\")\n",
        "plt.legend()\n",
        "plt.xlabel(\"k values\")\n",
        "plt.ylabel(\"AUROC score\")"
      ],
      "execution_count": null,
      "outputs": [
        {
          "output_type": "stream",
          "text": [
            "100%|██████████| 29/29 [2:00:40<00:00, 247.92s/it]\n"
          ],
          "name": "stderr"
        },
        {
          "output_type": "execute_result",
          "data": {
            "text/plain": [
              "Text(0, 0.5, 'AUROC score')"
            ]
          },
          "metadata": {
            "tags": []
          },
          "execution_count": 11
        },
        {
          "output_type": "display_data",
          "data": {
            "image/png": "[encoded data removed]",
            "text/plain": [
              "<Figure size 432x288 with 1 Axes>"
            ]
          },
          "metadata": {
            "tags": []
          }
        }
      ]
    },
    {
      "cell_type": "markdown",
      "metadata": {
        "id": "ijFNvBPkBZz2"
      },
      "source": [
        "**Performance on Test Data with optimal k value , ROC Curves and Confusion Matrix**\n"
      ]
    },
    {
      "cell_type": "code",
      "metadata": {
        "id": "NpuzkNNjBgYy",
        "colab": {
          "base_uri": "https://localhost:8080/",
          "height": 610
        },
        "outputId": "f98bde55-37fb-4245-9d8b-94049d012cac"
      },
      "source": [
        "count_vect = CountVectorizer(ngram_range=(1,2))\n",
        "\n",
        "Xtrain_bigrams = count_vect.fit_transform(final_50ktrain['CleanedText'].values)\n",
        "scaler = StandardScaler(with_mean = False)\n",
        "scaler.fit_transform(Xtrain_bigrams)\n",
        "\n",
        "Xtest_bigrams = count_vect.transform(final_50ktest['CleanedText'].values)\n",
        "scaler.transform(Xtest_bigrams)\n",
        "\n",
        "knn = KNeighborsClassifier(n_neighbors = 59 , algorithm = 'brute')\n",
        "\n",
        "knn.fit(Xtrain_bigrams, final_50ktrain['Score'])\n",
        "predOnTest = knn.predict_proba(Xtest_bigrams)\n",
        "predOnTrain = knn.predict_proba(Xtrain_bigrams)\n",
        "\n",
        "Trainfpr,Traintpr,Trthrsh = roc_curve(final_50ktrain['Score'], predOnTrain[:,1])\n",
        "train_auc = auc(Trainfpr,Traintpr)\n",
        "\n",
        "Testfpr,Testtpr,Tsthrsh = roc_curve(final_50ktest['Score'], predOnTest[:,1])\n",
        "test_auc = auc(Testfpr,Testtpr)\n",
        "\n",
        "print(\"*************************************************************************************\")\n",
        "print(\"Performance on test data and train is\", test_auc ,\"&\", train_auc,\"resp.\")\n",
        "print(\"*************************************************************************************\")\n",
        "\n",
        "## Ploting ROC curve\n",
        "plt.title('Receiver Operating Characteristic')\n",
        "plt.plot(Trainfpr, Traintpr, 'b', label = 'AUC for Train Data = %0.2f' % train_auc)\n",
        "plt.plot(Testfpr, Testtpr, 'r', label = 'AUC for Test Data = %0.2f' % test_auc)\n",
        "plt.legend(loc = 'lower right')\n",
        "plt.plot([0, 1], [0, 1],'r--')\n",
        "plt.xlim([0, 1])\n",
        "plt.ylim([0, 1])\n",
        "plt.ylabel('True Positive Rate')\n",
        "plt.xlabel('False Positive Rate')\n",
        "plt.show()\n",
        "\n",
        "best_t = find_best_threshold(Tsthrsh, Testfpr, Testtpr)\n",
        "\n",
        "print(\"*************************************************************************************\")\n",
        "\n",
        "class_names = [1,0]\n",
        "confMat=confusion_matrix(final_50ktest['Score'], predict_with_best_t(predOnTest[:,1], best_t), labels = class_names)\n",
        "df_cm = pd.DataFrame(confMat, index=class_names, columns=class_names)\n",
        "fig = plt.figure(figsize=(5,3))\n",
        "heatmap = sns.heatmap(df_cm, annot=True, fmt=\"d\")\n",
        "heatmap.yaxis.set_ticklabels(heatmap.yaxis.get_ticklabels(), rotation=0, ha='right', fontsize=14)\n",
        "heatmap.xaxis.set_ticklabels(heatmap.xaxis.get_ticklabels(), rotation=45, ha='right', fontsize=14)\n",
        "plt.ylabel('True label')\n",
        "plt.xlabel('Predicted label')"
      ],
      "execution_count": null,
      "outputs": [
        {
          "output_type": "stream",
          "text": [
            "*************************************************************************************\n",
            "Performance on test data and train is 0.7698348727063612 & 0.806434001801221 resp.\n",
            "*************************************************************************************\n"
          ],
          "name": "stdout"
        },
        {
          "output_type": "display_data",
          "data": {
            "image/png": "[encoded data removed]",
            "text/plain": [
              "<Figure size 432x288 with 1 Axes>"
            ]
          },
          "metadata": {
            "tags": [],
            "needs_background": "light"
          }
        },
        {
          "output_type": "stream",
          "text": [
            "the maximum value of tpr*(1-fpr) 0.49988214447173457 for threshold 0.831\n",
            "*************************************************************************************\n"
          ],
          "name": "stdout"
        },
        {
          "output_type": "execute_result",
          "data": {
            "text/plain": [
              "Text(0.5, 6.0, 'Predicted label')"
            ]
          },
          "metadata": {
            "tags": []
          },
          "execution_count": 15
        },
        {
          "output_type": "display_data",
          "data": {
            "image/png": "[encoded data removed]",
            "text/plain": [
              "<Figure size 360x216 with 2 Axes>"
            ]
          },
          "metadata": {
            "tags": [],
            "needs_background": "light"
          }
        }
      ]
    },
    {
      "cell_type": "markdown",
      "metadata": {
        "id": "7wQF41M4vAUv"
      },
      "source": [
        "# kNN for Tf-Idf encoding\n",
        "\n",
        "**using kd-tree algorithm , hyperparameter tuning - ploting k v/s AUROC for Validation dataset and Train dataset **"
      ]
    },
    {
      "cell_type": "code",
      "metadata": {
        "id": "bqllZbdSDx5g",
        "colab": {
          "base_uri": "https://localhost:8080/",
          "height": 313
        },
        "outputId": "756ee60f-d7b5-4c9f-cdda-2b7585ebdbb3"
      },
      "source": [
        "myList = list(range(3,61,2));\n",
        "\n",
        "tcvs = TimeSeriesSplit(n_splits = 10, max_train_size = round(final_20ktrain.shape[0]*0.9))\n",
        "ValMeanScore=[]; TrainMeanScore=[];\n",
        "Tf_idf_vect = TfidfVectorizer(ngram_range=(1,2), min_df = 10, max_features = 500)\n",
        "\n",
        "for k in tqdm(myList) :\n",
        "    \n",
        "    ValScore=[];TrainScore=[];\n",
        "    knn = KNeighborsClassifier(n_neighbors=k ,algorithm = \"kd_tree\")\n",
        "    \n",
        "    for train ,val in tcvs.split(final_20ktrain) :\n",
        "        \n",
        "        Xtrain_bigrams = Tf_idf_vect.fit_transform(final_20ktrain.iloc[train]['CleanedText'].values)\n",
        "        scaler = StandardScaler(with_mean = False)\n",
        "        scaler.fit_transform(Xtrain_bigrams)\n",
        "        \n",
        "        Xval_bigrams = Tf_idf_vect.transform(final_20ktrain.iloc[val]['CleanedText'].values)\n",
        "        scaler.transform(Xval_bigrams)\n",
        "                \n",
        "        Ytrain_labels = final_20ktrain.iloc[train]['Score']\n",
        "        Yval_labels = final_20ktrain.iloc[val]['Score']\n",
        "        \n",
        "        knn.fit(Xtrain_bigrams.toarray(), Ytrain_labels)\n",
        "        \n",
        "        predOnVal = knn.predict_proba(Xval_bigrams.toarray())\n",
        "        predOnTrain = knn.predict_proba(Xtrain_bigrams.toarray())\n",
        "        \n",
        "        fpr,tpr,_ = roc_curve(Yval_labels, predOnVal[:,1])\n",
        "        AUCOnVal = auc(fpr,tpr)\n",
        "        fpr,tpr,_ = roc_curve(Ytrain_labels, predOnTrain[:,1])\n",
        "        AUCOnTrain = auc(fpr,tpr)\n",
        "        \n",
        "        ValScore.append(AUCOnVal)\n",
        "        TrainScore.append(AUCOnTrain)\n",
        "        \n",
        "    ValMeanScore.append((k,sum(ValScore)/len(ValScore)))\n",
        "    TrainMeanScore.append((k,sum(TrainScore)/len(TrainScore)))\n",
        "    \n",
        "#just to free up some memory space :\n",
        "Xval_bigrams =[];train=[];val=[];\n",
        "\n",
        "ValMeanScore = dict(ValMeanScore)\n",
        "TrainMeanScore = dict(TrainMeanScore)\n",
        "\n",
        "#Bestk = list(ValMeanScore.keys())[list(ValMeanScore.values()).index(max(ValMeanScore.values()))]\n",
        "\n",
        "plt.plot(ValMeanScore.keys(), ValMeanScore.values(), \"ro\", label = \"Performance on Validation Data\")\n",
        "plt.plot(TrainMeanScore.keys(), TrainMeanScore.values(),\"go\", label = \"Performance on Training Data\")\n",
        "plt.legend()\n",
        "plt.xlabel(\"k values\")\n",
        "plt.ylabel(\"AUROC score\")\n"
      ],
      "execution_count": null,
      "outputs": [
        {
          "output_type": "stream",
          "text": [
            "100%|██████████| 29/29 [5:55:00<00:00, 716.56s/it]\n"
          ],
          "name": "stderr"
        },
        {
          "output_type": "execute_result",
          "data": {
            "text/plain": [
              "Text(0, 0.5, 'AUROC score')"
            ]
          },
          "metadata": {
            "tags": []
          },
          "execution_count": 12
        },
        {
          "output_type": "display_data",
          "data": {
            "image/png": "[encoded data removed]",
            "text/plain": [
              "<Figure size 432x288 with 1 Axes>"
            ]
          },
          "metadata": {
            "tags": []
          }
        }
      ]
    },
    {
      "cell_type": "markdown",
      "metadata": {
        "id": "M4o-4pvndhHi"
      },
      "source": [
        "**Performance on Test Data with optimal k value , ROC Curves and Confusion Matrix**"
      ]
    },
    {
      "cell_type": "code",
      "metadata": {
        "id": "IqcTGZ8Odhv9",
        "colab": {
          "base_uri": "https://localhost:8080/",
          "height": 610
        },
        "outputId": "71efe23e-e8b8-4612-e488-7213e2378400"
      },
      "source": [
        "Tf_idf_vect = TfidfVectorizer(ngram_range=(1,2), min_df = 10, max_features = 500)\n",
        "\n",
        "Xtrain_bigrams = Tf_idf_vect.fit_transform(final_20ktrain['CleanedText'].values)\n",
        "scaler = StandardScaler(with_mean = False)\n",
        "scaler.fit_transform(Xtrain_bigrams)\n",
        "\n",
        "Xtest_bigrams = Tf_idf_vect.transform(final_20ktest['CleanedText'].values)\n",
        "scaler.transform(Xtest_bigrams)\n",
        "\n",
        "knn = KNeighborsClassifier(n_neighbors =  59 , algorithm = 'kd_tree')\n",
        "\n",
        "knn.fit(Xtrain_bigrams.toarray(), final_20ktrain['Score'])\n",
        "predOnTest = knn.predict_proba(Xtest_bigrams.toarray())\n",
        "predOnTrain = knn.predict_proba(Xtrain_bigrams.toarray())\n",
        "\n",
        "Trainfpr,Traintpr,Trthrsh = roc_curve(final_20ktrain['Score'], predOnTrain[:,1])\n",
        "train_auc = auc(Trainfpr,Traintpr)\n",
        "\n",
        "Testfpr,Testtpr,Tsthrsh = roc_curve(final_20ktest['Score'], predOnTest[:,1])\n",
        "test_auc = auc(Testfpr,Testtpr)\n",
        "\n",
        "print(\"*************************************************************************************\")\n",
        "print(\"Performance on test and train data is\", test_auc,\"&\",train_auc,\"resp.\")\n",
        "print(\"*************************************************************************************\")\n",
        "\n",
        "## Ploting ROC curve\n",
        "plt.title('Receiver Operating Characteristic')\n",
        "plt.plot(Trainfpr, Traintpr, 'b', label = 'AUC for Train Data = %0.2f' % train_auc)\n",
        "plt.plot(Testfpr, Testtpr, 'r', label = 'AUC for Test Data = %0.2f' % test_auc)\n",
        "plt.legend(loc = 'lower right')\n",
        "plt.plot([0, 1], [0, 1],'r--')\n",
        "plt.xlim([0, 1])\n",
        "plt.ylim([0, 1])\n",
        "plt.ylabel('True Positive Rate')\n",
        "plt.xlabel('False Positive Rate')\n",
        "plt.show()\n",
        "\n",
        "best_t = find_best_threshold(Tsthrsh, Testfpr, Testtpr)\n",
        "\n",
        "print(\"*************************************************************************************\")\n",
        "Xtrain_bigrams = [];\n",
        "\n",
        "class_names = [1,0]\n",
        "confMat=confusion_matrix(final_20ktest['Score'], predict_with_best_t(predOnTest[:,1], best_t),labels = class_names)\n",
        "df_cm = pd.DataFrame(confMat, index=class_names, columns=class_names)\n",
        "fig = plt.figure(figsize=(5,3))\n",
        "heatmap = sns.heatmap(df_cm, annot=True, fmt=\"d\")\n",
        "heatmap.yaxis.set_ticklabels(heatmap.yaxis.get_ticklabels(), rotation=0, ha='right', fontsize=14)\n",
        "heatmap.xaxis.set_ticklabels(heatmap.xaxis.get_ticklabels(), rotation=45, ha='right', fontsize=14)\n",
        "plt.ylabel('True label')\n",
        "plt.xlabel('Predicted label')"
      ],
      "execution_count": null,
      "outputs": [
        {
          "output_type": "stream",
          "text": [
            "*************************************************************************************\n",
            "Performance on test and train data is 0.8115025334809114 & 0.8457668603825937 resp.\n",
            "*************************************************************************************\n"
          ],
          "name": "stdout"
        },
        {
          "output_type": "display_data",
          "data": {
            "image/png": "[encoded data removed]",
            "text/plain": [
              "<Figure size 432x288 with 1 Axes>"
            ]
          },
          "metadata": {
            "tags": [],
            "needs_background": "light"
          }
        },
        {
          "output_type": "stream",
          "text": [
            "the maximum value of tpr*(1-fpr) 0.537274667604546 for threshold 0.831\n",
            "*************************************************************************************\n"
          ],
          "name": "stdout"
        },
        {
          "output_type": "execute_result",
          "data": {
            "text/plain": [
              "Text(0.5, 6.0, 'Predicted label')"
            ]
          },
          "metadata": {
            "tags": []
          },
          "execution_count": 16
        },
        {
          "output_type": "display_data",
          "data": {
            "image/png": "[encoded data removed]",
            "text/plain": [
              "<Figure size 360x216 with 2 Axes>"
            ]
          },
          "metadata": {
            "tags": [],
            "needs_background": "light"
          }
        }
      ]
    },
    {
      "cell_type": "markdown",
      "metadata": {
        "id": "htDxo9TIvaJh"
      },
      "source": [
        "**using Brute Force algorithm , hyperparameter tuning - ploting k v/s AUROC for Validation dataset and Train dataset **"
      ]
    },
    {
      "cell_type": "code",
      "metadata": {
        "id": "9IXLFk-Rvo22",
        "colab": {
          "base_uri": "https://localhost:8080/",
          "height": 313
        },
        "outputId": "2a2fc9e6-885c-472f-c3e4-373f72b472f0"
      },
      "source": [
        "myList = list(range(3,61,2));\n",
        "\n",
        "tcvs = TimeSeriesSplit(n_splits = 10, max_train_size = round(final_50ktrain.shape[0]*0.9))\n",
        "ValMeanScore=[]; TrainMeanScore=[];\n",
        "\n",
        "tcvs = TimeSeriesSplit(n_splits = 10, max_train_size = round(final_50ktrain.shape[0]*0.9))\n",
        "TrainMeanScore=[];ValMeanScore=[];\n",
        "\n",
        "Tf_idf_vect = TfidfVectorizer(ngram_range=(1,2))\n",
        "\n",
        "for k in tqdm(myList) :\n",
        "  \n",
        "    ValScore=[]; TrainScore=[];\n",
        "    knn = KNeighborsClassifier(n_neighbors=k, algorithm = \"brute\")\n",
        "    \n",
        "    for train , val in tcvs.split(final_50ktrain) :\n",
        "        \n",
        "        Xtrain_bigrams = Tf_idf_vect.fit_transform(final_50ktrain.iloc[train]['CleanedText'].values)\n",
        "        scaler = StandardScaler(with_mean=False) \n",
        "        scaler.fit_transform(Xtrain_bigrams)\n",
        "        \n",
        "        Xval_bigrams = Tf_idf_vect.transform(final_50ktrain.iloc[val]['CleanedText'].values)\n",
        "        scaler.transform(Xval_bigrams)\n",
        "\n",
        "        knn.fit(Xtrain_bigrams, final_50ktrain.iloc[train]['Score'])\n",
        "        predOnVal = knn.predict_proba(Xval_bigrams)\n",
        "        predOnTrain = knn.predict_proba(Xtrain_bigrams)\n",
        "        \n",
        "        fpr,tpr,_ = roc_curve(final_50ktrain.iloc[val]['Score'], predOnVal[:,1])\n",
        "        AUCOnVal = auc(fpr,tpr)\n",
        "        fpr,tpr,_ = roc_curve(final_50ktrain.iloc[train]['Score'], predOnTrain[:,1])\n",
        "        AUCOnTrain = auc(fpr,tpr)\n",
        "        \n",
        "        ValScore.append(AUCOnVal)\n",
        "        TrainScore.append(AUCOnTrain)\n",
        "    \n",
        "    TrainMeanScore.append((k,sum(TrainScore)/len(TrainScore)))\n",
        "    ValMeanScore.append((k,sum(ValScore)/len(ValScore)))\n",
        "\n",
        "#just to free up some memory space :\n",
        "Xval_bigrams =[];train=[];val=[];\n",
        "\n",
        "TrainMeanScore = dict(TrainMeanScore)\n",
        "ValMeanScore = dict(ValMeanScore)\n",
        "\n",
        "plt.plot(ValMeanScore.keys(), ValMeanScore.values(), \"ro\", label = \"Performance on Validation Data\")\n",
        "plt.plot(TrainMeanScore.keys(), TrainMeanScore.values(),\"go\", label = \"Performance on Training Data\")\n",
        "plt.legend()\n",
        "plt.xlabel(\"k values\")\n",
        "plt.ylabel(\"AUROC score\")\n"
      ],
      "execution_count": null,
      "outputs": [
        {
          "output_type": "stream",
          "text": [
            "100%|██████████| 29/29 [2:02:24<00:00, 254.35s/it]\n"
          ],
          "name": "stderr"
        },
        {
          "output_type": "execute_result",
          "data": {
            "text/plain": [
              "Text(0, 0.5, 'AUROC score')"
            ]
          },
          "metadata": {
            "tags": []
          },
          "execution_count": 10
        },
        {
          "output_type": "display_data",
          "data": {
            "image/png": "[encoded data removed]",
            "text/plain": [
              "<Figure size 432x288 with 1 Axes>"
            ]
          },
          "metadata": {
            "tags": []
          }
        }
      ]
    },
    {
      "cell_type": "markdown",
      "metadata": {
        "id": "bxVEViKLbLFr"
      },
      "source": [
        "**Performance on Test Data with optimal k value , ROC Curves and Confusion Matrix**"
      ]
    },
    {
      "cell_type": "code",
      "metadata": {
        "id": "7pFM_UDY5Pqp",
        "colab": {
          "base_uri": "https://localhost:8080/",
          "height": 379
        },
        "outputId": "0c12c9bc-a091-4c85-cfa1-9aab38d2d055"
      },
      "source": [
        "Xval_bigrams =[];train=[];val=[];\n",
        "\n",
        "Tf_idf_vect = TfidfVectorizer(ngram_range=(1,2))\n",
        "Xtrain_bigrams = Tf_idf_vect.fit_transform(final_50ktrain['CleanedText'].values)\n",
        "scaler = StandardScaler(with_mean = False)\n",
        "scaler.fit_transform(Xtrain_bigrams)\n",
        "\n",
        "Xtest_bigrams = Tf_idf_vect.transform(final_50ktest['CleanedText'].values)\n",
        "scaler.transform(Xtest_bigrams)\n",
        "\n",
        "knn = KNeighborsClassifier(n_neighbors = 59 , algorithm = 'brute')\n",
        "\n",
        "knn.fit(Xtrain_bigrams, final_50ktrain['Score'])\n",
        "predOnTest = knn.predict_proba(Xtest_bigrams)\n",
        "predOnTrain = knn.predict_proba(Xtrain_bigrams)\n",
        "\n",
        "Trainfpr, Traintpr, Trthrsh  = roc_curve(final_50ktrain['Score'], predOnTrain[:,1])\n",
        "train_auc = auc(Trainfpr,Traintpr)\n",
        "\n",
        "Testfpr, Testtpr, Tsthrsh = roc_curve(final_50ktest['Score'], predOnTest[:,1])\n",
        "test_auc = auc(Testfpr,Testtpr)\n",
        "\n",
        "\n",
        "print(\"*************************************************************************************\")\n",
        "print(\"Performance on test data and train is\", test_auc ,\"&\", train_auc,\"resp.\")\n",
        "print(\"*************************************************************************************\")\n",
        "\n",
        "## Ploting ROC curve\n",
        "plt.title('Receiver Operating Characteristic')\n",
        "plt.plot(Trainfpr, Traintpr, 'b', label = 'AUC for Train Data = %0.2f' % train_auc)\n",
        "plt.plot(Testfpr, Testtpr, 'r', label = 'AUC for Test Data = %0.2f' % test_auc)\n",
        "plt.legend(loc = 'lower right')\n",
        "plt.plot([0, 1], [0, 1],'r--')\n",
        "plt.xlim([0, 1])\n",
        "plt.ylim([0, 1])\n",
        "plt.ylabel('True Positive Rate')\n",
        "plt.xlabel('False Positive Rate')\n",
        "plt.show()\n",
        "\n",
        "best_t = find_best_threshold(Tsthrsh, Testfpr, Testtpr)\n",
        "print(\"*************************************************************************************\")"
      ],
      "execution_count": null,
      "outputs": [
        {
          "output_type": "stream",
          "text": [
            "*************************************************************************************\n",
            "Performance on test data and train is 0.8670559830839772 & 0.8933045623456473 resp.\n",
            "*************************************************************************************\n"
          ],
          "name": "stdout"
        },
        {
          "output_type": "display_data",
          "data": {
            "image/png": "[encoded data removed]",
            "text/plain": [
              "<Figure size 432x288 with 1 Axes>"
            ]
          },
          "metadata": {
            "tags": [],
            "needs_background": "light"
          }
        },
        {
          "output_type": "stream",
          "text": [
            "the maximum value of tpr*(1-fpr) 0.6235506219304227 for threshold 0.831\n",
            "*************************************************************************************\n"
          ],
          "name": "stdout"
        }
      ]
    },
    {
      "cell_type": "code",
      "metadata": {
        "id": "2TgvrqRR8PV8",
        "colab": {
          "base_uri": "https://localhost:8080/",
          "height": 231
        },
        "outputId": "5db329ee-2665-4dd4-bdca-9fd982a9c3cf"
      },
      "source": [
        "class_names = [1,0]\n",
        "confMat=confusion_matrix(final_50ktest['Score'], predict_with_best_t(predOnTest[:,1], best_t),labels = class_names)\n",
        "df_cm = pd.DataFrame(confMat, index=class_names, columns=class_names)\n",
        "fig = plt.figure(figsize=(5,3))\n",
        "heatmap = sns.heatmap(df_cm, annot=True, fmt=\"d\")\n",
        "heatmap.yaxis.set_ticklabels(heatmap.yaxis.get_ticklabels(), rotation=0, ha='right', fontsize=14)\n",
        "heatmap.xaxis.set_ticklabels(heatmap.xaxis.get_ticklabels(), rotation=45, ha='right', fontsize=14)\n",
        "plt.ylabel('True label')\n",
        "plt.xlabel('Predicted label')\n",
        "plt.show()"
      ],
      "execution_count": null,
      "outputs": [
        {
          "output_type": "display_data",
          "data": {
            "image/png": "[encoded data removed]",
            "text/plain": [
              "<Figure size 360x216 with 2 Axes>"
            ]
          },
          "metadata": {
            "tags": [],
            "needs_background": "light"
          }
        }
      ]
    },
    {
      "cell_type": "markdown",
      "metadata": {
        "id": "ayi_x2_1o6ov"
      },
      "source": [
        "#kNN for Avg. W2V\n",
        "**Function for training a W2V model**"
      ]
    },
    {
      "cell_type": "code",
      "metadata": {
        "id": "2H896_K5p3YS",
        "cellView": "form"
      },
      "source": [
        "#@title\n",
        "def W2V_Vectorizer(DataCorpus, min_count = 5, size = 50):\n",
        "    \n",
        "    list_of_sent=[]\n",
        "    for sent in DataCorpus:\n",
        "        list_of_sent.append(sent.split())\n",
        "\n",
        "    w2v_model=Word2Vec(list_of_sent,min_count = min_count, size = size, workers=4)\n",
        "    w2v_words = list(w2v_model.wv.vocab)\n",
        "    \n",
        "    sent_vectors = []; i=0;\n",
        "    for sent in list_of_sent:\n",
        "        sent_vec = np.zeros(size) \n",
        "        cnt_words =0; \n",
        "        for word in sent: \n",
        "            if word in w2v_words:\n",
        "                vec = w2v_model.wv[word]\n",
        "                sent_vec += vec\n",
        "                cnt_words += 1\n",
        "        if cnt_words != 0:\n",
        "            sent_vec /= cnt_words\n",
        "        sent_vectors.append(sent_vec)\n",
        "        \n",
        "    return pd.DataFrame(sent_vectors)"
      ],
      "execution_count": null,
      "outputs": []
    },
    {
      "cell_type": "markdown",
      "metadata": {
        "id": "tlXrH1SQE7_R"
      },
      "source": [
        "**using kd-tree algorithm , hyperparameter tuning - ploting k v/s AUROC for Validation dataset and Train dataset **"
      ]
    },
    {
      "cell_type": "code",
      "metadata": {
        "id": "bOSO2hV4gBaE",
        "colab": {
          "base_uri": "https://localhost:8080/",
          "height": 313
        },
        "outputId": "0dfacaf6-12ef-4380-a625-f0486bc405cb"
      },
      "source": [
        "myList = list(range(3,61,2));\n",
        "\n",
        "tcvs = TimeSeriesSplit(n_splits = 10, max_train_size = round(final_50ktrain.shape[0]*0.9))\n",
        "ValMeanScore=[]; TrainMeanScore=[];\n",
        "\n",
        "for k in tqdm(myList) :\n",
        "    \n",
        "    ValScore=[];TrainScore=[];\n",
        "    knn = KNeighborsClassifier(n_neighbors=k ,algorithm = \"kd_tree\")\n",
        "    \n",
        "    for train ,val in tcvs.split(final_50ktrain) :\n",
        "         \n",
        "        TrainW2V = W2V_Vectorizer(final_50ktrain.iloc[train]['CleanedText'].values, size = 50)\n",
        "        scaler = StandardScaler(with_mean = False)\n",
        "        scaler.fit_transform(TrainW2V)\n",
        "        \n",
        "        ValW2V = W2V_Vectorizer(final_50ktrain.iloc[val]['CleanedText'].values, size = 50)\n",
        "        scaler.transform(ValW2V)\n",
        "                \n",
        "        Ytrain_labels = final_50ktrain.iloc[train]['Score']\n",
        "        Yval_labels = final_50ktrain.iloc[val]['Score']\n",
        "        \n",
        "        knn.fit(TrainW2V, Ytrain_labels)\n",
        "        \n",
        "        predOnVal = knn.predict_proba(ValW2V)\n",
        "        predOnTrain = knn.predict_proba(TrainW2V)\n",
        "        \n",
        "        fpr,tpr,_ = roc_curve(Yval_labels, predOnVal[:,1])\n",
        "        AUCOnVal = auc(fpr,tpr)\n",
        "        fpr,tpr,_ = roc_curve(Ytrain_labels, predOnTrain[:,1])\n",
        "        AUCOnTrain = auc(fpr,tpr)\n",
        "        \n",
        "        ValScore.append(AUCOnVal)\n",
        "        TrainScore.append(AUCOnTrain)\n",
        "        \n",
        "    ValMeanScore.append((k,sum(ValScore)/len(ValScore)))\n",
        "    TrainMeanScore.append((k,sum(TrainScore)/len(TrainScore)))\n",
        "    \n",
        "ValMeanScore = dict(ValMeanScore)\n",
        "TrainMeanScore = dict(TrainMeanScore)\n",
        "\n",
        "plt.plot(ValMeanScore.keys(), ValMeanScore.values(), \"ro\", label = \"Performance on Validation Data\")\n",
        "plt.plot(TrainMeanScore.keys(), TrainMeanScore.values(), \"go\", label = \"Performance on Training Data\")\n",
        "plt.legend()\n",
        "plt.xlabel(\"k values\")\n",
        "plt.ylabel(\"AUROC score\")\n"
      ],
      "execution_count": null,
      "outputs": [
        {
          "output_type": "stream",
          "text": [
            "100%|██████████| 29/29 [5:29:51<00:00, 688.96s/it]\n"
          ],
          "name": "stderr"
        },
        {
          "output_type": "execute_result",
          "data": {
            "text/plain": [
              "Text(0, 0.5, 'AUROC score')"
            ]
          },
          "metadata": {
            "tags": []
          },
          "execution_count": 11
        },
        {
          "output_type": "display_data",
          "data": {
            "image/png": "[encoded data removed]",
            "text/plain": [
              "<Figure size 432x288 with 1 Axes>"
            ]
          },
          "metadata": {
            "tags": []
          }
        }
      ]
    },
    {
      "cell_type": "markdown",
      "metadata": {
        "id": "oo69nmA1UZNz"
      },
      "source": [
        "**Performance on Test Data with optimal k value , ROC Curves and Confusion Matrix**"
      ]
    },
    {
      "cell_type": "code",
      "metadata": {
        "id": "ZnOZ1_I_UXIX"
      },
      "source": [
        "TrainW2V = W2V_Vectorizer(final_50ktrain['CleanedText'].values, size = 50)\n",
        "scaler = StandardScaler(with_mean = False)\n",
        "scaler.fit_transform(TrainW2V)\n",
        "\n",
        "TestW2V = W2V_Vectorizer(final_50ktest['CleanedText'].values, size = 50)\n",
        "scaler.transform(TestW2V)\n",
        "\n",
        "knn = KNeighborsClassifier(n_neighbors = 59 , algorithm = 'kd_tree')\n",
        "\n",
        "knn.fit(TrainW2V, final_50ktrain['Score'])\n",
        "predOnTest = knn.predict_proba(TestW2V)\n",
        "predOnTrain = knn.predict_proba(TrainW2V)\n",
        "\n",
        "Trainfpr, Traintpr, Trthrsh = roc_curve(final_50ktrain['Score'], predOnTrain[:,1])\n",
        "train_auc = auc(Trainfpr,Traintpr)\n",
        "\n",
        "Testfpr, Testtpr, Tsthrsh = roc_curve(final_50ktest['Score'], predOnTest[:,1])\n",
        "test_auc = auc(Testfpr,Testtpr)\n",
        "\n",
        "\n",
        "print(\"*************************************************************************************\")\n",
        "print(\"Performance on test data and train is\", test_auc ,\"&\", train_auc,\"resp.\")\n",
        "print(\"*************************************************************************************\")\n",
        "\n",
        "## Ploting ROC curve\n",
        "plt.title('Receiver Operating Characteristic')\n",
        "plt.plot(Trainfpr, Traintpr, 'b', label = 'AUC for Train Data = %0.2f' % train_auc)\n",
        "plt.plot(Testfpr, Testtpr, 'r', label = 'AUC for Test Data = %0.2f' % test_auc)\n",
        "plt.legend(loc = 'lower right')\n",
        "plt.plot([0, 1], [0, 1],'r--')\n",
        "plt.xlim([0, 1])\n",
        "plt.ylim([0, 1])\n",
        "plt.ylabel('True Positive Rate')\n",
        "plt.xlabel('False Positive Rate')\n",
        "plt.show()\n",
        "\n",
        "best_t = find_best_threshold(Tsthrsh, Testfpr, Testtpr)\n",
        "\n",
        "print(\"*************************************************************************************\")\n",
        "\n",
        "class_names = [1,0]\n",
        "confMat=confusion_matrix(final_50ktest['Score'], predict_with_best_t(predOnTest[:,1], best_t),labels = class_names)\n",
        "df_cm = pd.DataFrame(confMat, index=class_names, columns=class_names)\n",
        "fig = plt.figure(figsize=(5,3))\n",
        "heatmap = sns.heatmap(df_cm, annot=True, fmt=\"d\")\n",
        "heatmap.yaxis.set_ticklabels(heatmap.yaxis.get_ticklabels(), rotation=0, ha='right', fontsize=14)\n",
        "heatmap.xaxis.set_ticklabels(heatmap.xaxis.get_ticklabels(), rotation=45, ha='right', fontsize=14)\n",
        "plt.ylabel('True label')\n",
        "plt.xlabel('Predicted label')\n",
        "plt.show()\n"
      ],
      "execution_count": null,
      "outputs": []
    },
    {
      "cell_type": "markdown",
      "metadata": {
        "id": "tQhztK8QtTN-"
      },
      "source": [
        "**using brute force, hyperparameter tuning - ploting k v/s AUROC for Validation dataset and Train dataset **"
      ]
    },
    {
      "cell_type": "code",
      "metadata": {
        "id": "xjpVOnjOtRpS",
        "colab": {
          "base_uri": "https://localhost:8080/",
          "height": 313
        },
        "outputId": "1cfe8fce-af02-4c75-af54-8703fe2dac36"
      },
      "source": [
        "myList = list(range(3,61,2));\n",
        "\n",
        "tcvs = TimeSeriesSplit(n_splits = 10, max_train_size = round(final_50ktrain.shape[0]*0.9))\n",
        "ValMeanScore=[]; TrainMeanScore=[];\n",
        "\n",
        "for k in tqdm(myList) :\n",
        "    \n",
        "    ValScore=[];TrainScore=[];\n",
        "    knn = KNeighborsClassifier(n_neighbors=k ,algorithm = \"brute\")\n",
        "    \n",
        "    for train ,val in tcvs.split(final_50ktrain) :\n",
        "         \n",
        "        TrainW2V = W2V_Vectorizer(final_50ktrain.iloc[train]['CleanedText'].values, size = 50)\n",
        "        scaler = StandardScaler(with_mean = False)\n",
        "        scaler.fit_transform(TrainW2V)\n",
        "        \n",
        "        ValW2V = W2V_Vectorizer(final_50ktrain.iloc[val]['CleanedText'].values, size = 50)\n",
        "        scaler.transform(ValW2V)\n",
        "                \n",
        "        Ytrain_labels = final_50ktrain.iloc[train]['Score']\n",
        "        Yval_labels = final_50ktrain.iloc[val]['Score']\n",
        "        \n",
        "        knn.fit(TrainW2V, Ytrain_labels)\n",
        "        \n",
        "        predOnVal = knn.predict_proba(ValW2V)\n",
        "        predOnTrain = knn.predict_proba(TrainW2V)\n",
        "        \n",
        "        fpr,tpr,_ = roc_curve(Yval_labels, predOnVal[:,1])\n",
        "        AUCOnVal = auc(fpr,tpr)\n",
        "        fpr,tpr,_ = roc_curve(Ytrain_labels, predOnTrain[:,1])\n",
        "        AUCOnTrain = auc(fpr,tpr)\n",
        "        \n",
        "        ValScore.append(AUCOnVal)\n",
        "        TrainScore.append(AUCOnTrain)\n",
        "        \n",
        "    ValMeanScore.append((k,sum(ValScore)/len(ValScore)))\n",
        "    TrainMeanScore.append((k,sum(TrainScore)/len(TrainScore)))\n",
        "    \n",
        "ValMeanScore = dict(ValMeanScore)\n",
        "TrainMeanScore = dict(TrainMeanScore)\n",
        "\n",
        "plt.plot(ValMeanScore.keys(), ValMeanScore.values(), \"ro\", label = \"Performance on Validation Data\")\n",
        "plt.plot(TrainMeanScore.keys(), TrainMeanScore.values(), \"go\", label = \"Performance on Training Data\")\n",
        "plt.legend()\n",
        "plt.xlabel(\"k values\")\n",
        "plt.ylabel(\"AUROC score\")\n"
      ],
      "execution_count": null,
      "outputs": [
        {
          "output_type": "stream",
          "text": [
            "100%|██████████| 29/29 [2:50:35<00:00, 349.43s/it]\n"
          ],
          "name": "stderr"
        },
        {
          "output_type": "execute_result",
          "data": {
            "text/plain": [
              "Text(0, 0.5, 'AUROC score')"
            ]
          },
          "metadata": {
            "tags": []
          },
          "execution_count": 12
        },
        {
          "output_type": "display_data",
          "data": {
            "image/png": "[encoded data removed]",
            "text/plain": [
              "<Figure size 432x288 with 1 Axes>"
            ]
          },
          "metadata": {
            "tags": []
          }
        }
      ]
    },
    {
      "cell_type": "markdown",
      "metadata": {
        "id": "RT-StbGLtuDH"
      },
      "source": [
        "**Performance on Test Data with optimal k value , ROC Curves and Confusion Matrix**"
      ]
    },
    {
      "cell_type": "code",
      "metadata": {
        "id": "2jzBTS2FtvR3",
        "colab": {
          "base_uri": "https://localhost:8080/",
          "height": 593
        },
        "outputId": "88a8fec9-8898-4e1a-de61-d5f3da28c3f1"
      },
      "source": [
        "TrainW2V = W2V_Vectorizer(final_50ktrain['CleanedText'].values, size = 50)\n",
        "scaler = StandardScaler(with_mean = False)\n",
        "scaler.fit_transform(TrainW2V)\n",
        "\n",
        "TestW2V = W2V_Vectorizer(final_50ktest['CleanedText'].values, size = 50)\n",
        "scaler.transform(TestW2V)\n",
        "\n",
        "knn = KNeighborsClassifier(n_neighbors = 49 , algorithm = 'brute')\n",
        "\n",
        "knn.fit(TrainW2V, final_50ktrain['Score'])\n",
        "predOnTest = knn.predict_proba(TestW2V)\n",
        "predOnTrain = knn.predict_proba(TrainW2V)\n",
        "\n",
        "Trainfpr,Traintpr,Trthrsh = roc_curve(final_50ktrain['Score'], predOnTrain[:,1])\n",
        "train_auc = auc(Trainfpr,Traintpr)\n",
        "\n",
        "Testfpr,Testtpr,Tsthrsh = roc_curve(final_50ktest['Score'], predOnTest[:,1])\n",
        "test_auc = auc(Testfpr,Testtpr)\n",
        "\n",
        "\n",
        "print(\"*************************************************************************************\")\n",
        "print(\"Performance on test data and train is\", test_auc ,\"&\", train_auc,\"resp.\")\n",
        "print(\"*************************************************************************************\")\n",
        "\n",
        "## Ploting ROC curve\n",
        "plt.title('Receiver Operating Characteristic')\n",
        "plt.plot(Trainfpr, Traintpr, 'b', label = 'AUC for Train Data = %0.2f' % train_auc)\n",
        "plt.plot(Testfpr, Testtpr, 'r', label = 'AUC for Test Data = %0.2f' % test_auc)\n",
        "plt.legend(loc = 'lower right')\n",
        "plt.plot([0, 1], [0, 1],'r--')\n",
        "plt.xlim([0, 1])\n",
        "plt.ylim([0, 1])\n",
        "plt.ylabel('True Positive Rate')\n",
        "plt.xlabel('False Positive Rate')\n",
        "plt.show()\n",
        "\n",
        "best_t = find_best_threshold(Tsthrsh, Testfpr, Testtpr)\n",
        "\n",
        "print(\"*************************************************************************************\")\n",
        "\n",
        "class_names = [1,0]\n",
        "confMat=confusion_matrix(final_50ktest['Score'], predict_with_best_t(predOnTest[:,1], best_t),labels = class_names)\n",
        "df_cm = pd.DataFrame(confMat, index=class_names, columns=class_names)\n",
        "fig = plt.figure(figsize=(5,3))\n",
        "heatmap = sns.heatmap(df_cm, annot=True, fmt=\"d\")\n",
        "heatmap.yaxis.set_ticklabels(heatmap.yaxis.get_ticklabels(), rotation=0, ha='right', fontsize=14)\n",
        "heatmap.xaxis.set_ticklabels(heatmap.xaxis.get_ticklabels(), rotation=45, ha='right', fontsize=14)\n",
        "plt.ylabel('True label')\n",
        "plt.xlabel('Predicted label')\n",
        "plt.show()\n"
      ],
      "execution_count": null,
      "outputs": [
        {
          "output_type": "stream",
          "text": [
            "*************************************************************************************\n",
            "Performance on test data and train is 0.7816130938039768 & 0.8970330349615094 resp.\n",
            "*************************************************************************************\n"
          ],
          "name": "stdout"
        },
        {
          "output_type": "display_data",
          "data": {
            "image/png": "[encoded data removed]",
            "text/plain": [
              "<Figure size 432x288 with 1 Axes>"
            ]
          },
          "metadata": {
            "tags": [],
            "needs_background": "light"
          }
        },
        {
          "output_type": "stream",
          "text": [
            "the maximum value of tpr*(1-fpr) 0.5006130936750672 for threshold 0.776\n",
            "*************************************************************************************\n"
          ],
          "name": "stdout"
        },
        {
          "output_type": "display_data",
          "data": {
            "image/png": "[encoded data removed]",
            "text/plain": [
              "<Figure size 360x216 with 2 Axes>"
            ]
          },
          "metadata": {
            "tags": [],
            "needs_background": "light"
          }
        }
      ]
    },
    {
      "cell_type": "markdown",
      "metadata": {
        "id": "wl4uGGyVU1PV"
      },
      "source": [
        "#kNN for Tf-idf weighted W2V\n",
        "**Function to Train a Tf-idf weighted W2V model**"
      ]
    },
    {
      "cell_type": "code",
      "metadata": {
        "id": "e8dZK1t_Uzth",
        "cellView": "form"
      },
      "source": [
        "#@title\n",
        "def W2V_Tfidf_Vectorizer(DataCorpus, min_count = 5, size = 50 ):\n",
        "  \n",
        "  list_of_sent=[]\n",
        "  for sent in DataCorpus:\n",
        "      list_of_sent.append(sent.split())\n",
        "  \n",
        "  w2v_model=Word2Vec(list_of_sent, min_count = min_count, size = size, workers = 4)\n",
        "  w2v_words = list(w2v_model.wv.vocab)\n",
        "  \n",
        "  model = TfidfVectorizer()\n",
        "  tf_idf_matrix = model.fit_transform(DataCorpus)\n",
        "  \n",
        "  dictionary = dict(zip(model.get_feature_names(), list(model.idf_)))\n",
        "  \n",
        "  tfidf_sent_vectors = [];\n",
        "\n",
        "  for sent in list_of_sent:\n",
        "      sent_vec = np.zeros(50)\n",
        "      weight_sum = 0; \n",
        "      for word in sent:\n",
        "          if word in w2v_words:\n",
        "              vec = w2v_model.wv[word]\n",
        "              tf_idf = dictionary[word]*(sent.count(word)/len(sent))\n",
        "              sent_vec += (vec * tf_idf)\n",
        "              weight_sum += tf_idf\n",
        "      if weight_sum != 0:\n",
        "          sent_vec /= weight_sum\n",
        "      tfidf_sent_vectors.append(sent_vec)\n",
        "\n",
        "  return(pd.DataFrame(tfidf_sent_vectors))\n"
      ],
      "execution_count": null,
      "outputs": []
    },
    {
      "cell_type": "markdown",
      "metadata": {
        "id": "gETNJ1ZKqyO-"
      },
      "source": [
        "**using kd tree based algorithm, hyperparameter tuning - ploting k v/s AUROC for Validation dataset and Train dataset **"
      ]
    },
    {
      "cell_type": "code",
      "metadata": {
        "id": "qlkPYivOqzTl",
        "colab": {
          "base_uri": "https://localhost:8080/",
          "height": 313
        },
        "outputId": "e304e2cc-77de-4f25-c649-d0e08874f1c0"
      },
      "source": [
        "myList = list(range(3,61,2));\n",
        "\n",
        "tcvs = TimeSeriesSplit(n_splits = 10, max_train_size = round(final_50ktrain.shape[0]*0.9))\n",
        "ValMeanScore=[]; TrainMeanScore=[];\n",
        "\n",
        "for k in tqdm(myList) :\n",
        "    \n",
        "    ValScore=[];TrainScore=[];\n",
        "    knn = KNeighborsClassifier(n_neighbors=k ,algorithm = \"kd_tree\")\n",
        "    \n",
        "    for train ,val in tcvs.split(final_50ktrain) :\n",
        "         \n",
        "        TrainW2V = W2V_Tfidf_Vectorizer(final_50ktrain.iloc[train]['CleanedText'].values, size = 50)\n",
        "        scaler = StandardScaler(with_mean = False)\n",
        "        scaler.fit_transform(TrainW2V)\n",
        "        \n",
        "        ValW2V = W2V_Tfidf_Vectorizer(final_50ktrain.iloc[val]['CleanedText'].values, size = 50)\n",
        "        scaler.transform(ValW2V)\n",
        "                \n",
        "        Ytrain_labels = final_50ktrain.iloc[train]['Score']\n",
        "        Yval_labels = final_50ktrain.iloc[val]['Score']\n",
        "        \n",
        "        knn.fit(TrainW2V, Ytrain_labels)\n",
        "        \n",
        "        predOnVal = knn.predict_proba(ValW2V)\n",
        "        predOnTrain = knn.predict_proba(TrainW2V)\n",
        "        \n",
        "        fpr,tpr,_ = roc_curve(Yval_labels, predOnVal[:,1])\n",
        "        AUCOnVal = auc(fpr,tpr)\n",
        "        fpr,tpr,_ = roc_curve(Ytrain_labels, predOnTrain[:,1])\n",
        "        AUCOnTrain = auc(fpr,tpr)\n",
        "        \n",
        "        ValScore.append(AUCOnVal)\n",
        "        TrainScore.append(AUCOnTrain)\n",
        "        \n",
        "    ValMeanScore.append((k,sum(ValScore)/len(ValScore)))\n",
        "    TrainMeanScore.append((k,sum(TrainScore)/len(TrainScore)))\n",
        "    \n",
        "ValMeanScore = dict(ValMeanScore)\n",
        "TrainMeanScore = dict(TrainMeanScore)\n",
        "\n",
        "plt.plot(ValMeanScore.keys(), ValMeanScore.values(), \"ro\", label = \"Performance on Validation Data\")\n",
        "plt.plot(TrainMeanScore.keys(), TrainMeanScore.values(), \"go\", label = \"Performance on Training Data\")\n",
        "plt.legend()\n",
        "plt.xlabel(\"k values\")\n",
        "plt.ylabel(\"AUROC score\")\n"
      ],
      "execution_count": null,
      "outputs": [
        {
          "output_type": "stream",
          "text": [
            "100%|██████████| 29/29 [5:54:40<00:00, 752.07s/it]\n"
          ],
          "name": "stderr"
        },
        {
          "output_type": "execute_result",
          "data": {
            "text/plain": [
              "Text(0, 0.5, 'AUROC score')"
            ]
          },
          "metadata": {
            "tags": []
          },
          "execution_count": 12
        },
        {
          "output_type": "display_data",
          "data": {
            "image/png": "[encoded data removed]",
            "text/plain": [
              "<Figure size 432x288 with 1 Axes>"
            ]
          },
          "metadata": {
            "tags": []
          }
        }
      ]
    },
    {
      "cell_type": "markdown",
      "metadata": {
        "id": "xJEeDT-gq0nu"
      },
      "source": [
        "**Performance on Test Data with optimal k value , ROC Curves and Confusion Matrix**"
      ]
    },
    {
      "cell_type": "code",
      "metadata": {
        "id": "Gmv_rqXqq5Ff",
        "colab": {
          "base_uri": "https://localhost:8080/",
          "height": 593
        },
        "outputId": "367afbf5-b5d1-472d-ccb4-239244f0f05e"
      },
      "source": [
        "TrainW2V = W2V_Tfidf_Vectorizer(final_50ktrain['CleanedText'].values, size = 50)\n",
        "scaler = StandardScaler(with_mean = False)\n",
        "scaler.fit_transform(TrainW2V)\n",
        "\n",
        "TestW2V = W2V_Tfidf_Vectorizer(final_50ktest['CleanedText'].values, size = 50)\n",
        "scaler.transform(TestW2V)\n",
        "\n",
        "knn = KNeighborsClassifier(n_neighbors = 57 , algorithm = 'kd_tree')\n",
        "\n",
        "knn.fit(TrainW2V, final_50ktrain['Score'])\n",
        "predOnTest = knn.predict_proba(TestW2V)\n",
        "predOnTrain = knn.predict_proba(TrainW2V)\n",
        "\n",
        "Trainfpr,Traintpr,Trthrsh = roc_curve(final_50ktrain['Score'], predOnTrain[:,1])\n",
        "train_auc = auc(Trainfpr,Traintpr)\n",
        "\n",
        "Testfpr,Testtpr,Tsthrsh = roc_curve(final_50ktest['Score'], predOnTest[:,1])\n",
        "test_auc = auc(Testfpr,Testtpr)\n",
        "\n",
        "\n",
        "print(\"*************************************************************************************\")\n",
        "print(\"Performance on test data and train is\", test_auc ,\"&\", train_auc,\"resp.\")\n",
        "print(\"*************************************************************************************\")\n",
        "\n",
        "## Ploting ROC curve\n",
        "plt.title('Receiver Operating Characteristic')\n",
        "plt.plot(Trainfpr, Traintpr, 'b', label = 'AUC for Train Data = %0.2f' % train_auc)\n",
        "plt.plot(Testfpr, Testtpr, 'r', label = 'AUC for Test Data = %0.2f' % test_auc)\n",
        "plt.legend(loc = 'lower right')\n",
        "plt.plot([0, 1], [0, 1],'r--')\n",
        "plt.xlim([0, 1])\n",
        "plt.ylim([0, 1])\n",
        "plt.ylabel('True Positive Rate')\n",
        "plt.xlabel('False Positive Rate')\n",
        "plt.show()\n",
        "\n",
        "best_t = find_best_threshold(Tsthrsh, Testfpr, Testtpr)\n",
        "\n",
        "print(\"*************************************************************************************\")\n",
        "\n",
        "class_names = [1,0]\n",
        "confMat=confusion_matrix(final_50ktest['Score'], predict_with_best_t(predOnTest[:,1], best_t), labels = class_names)\n",
        "df_cm = pd.DataFrame(confMat, index=class_names, columns=class_names)\n",
        "fig = plt.figure(figsize=(5,3))\n",
        "heatmap = sns.heatmap(df_cm, annot=True, fmt=\"d\")\n",
        "heatmap.yaxis.set_ticklabels(heatmap.yaxis.get_ticklabels(), rotation=0, ha='right', fontsize=14)\n",
        "heatmap.xaxis.set_ticklabels(heatmap.xaxis.get_ticklabels(), rotation=45, ha='right', fontsize=14)\n",
        "plt.ylabel('True label')\n",
        "plt.xlabel('Predicted label')\n",
        "plt.show()\n"
      ],
      "execution_count": null,
      "outputs": [
        {
          "output_type": "stream",
          "text": [
            "*************************************************************************************\n",
            "Performance on test data and train is 0.7656991330448081 & 0.8661749819580365 resp.\n",
            "*************************************************************************************\n"
          ],
          "name": "stdout"
        },
        {
          "output_type": "display_data",
          "data": {
            "image/png": "[encoded data removed]",
            "text/plain": [
              "<Figure size 432x288 with 1 Axes>"
            ]
          },
          "metadata": {
            "tags": [],
            "needs_background": "light"
          }
        },
        {
          "output_type": "stream",
          "text": [
            "the maximum value of tpr*(1-fpr) 0.49051113140146946 for threshold 0.737\n",
            "*************************************************************************************\n"
          ],
          "name": "stdout"
        },
        {
          "output_type": "display_data",
          "data": {
            "image/png": "[encoded data removed]",
            "text/plain": [
              "<Figure size 360x216 with 2 Axes>"
            ]
          },
          "metadata": {
            "tags": [],
            "needs_background": "light"
          }
        }
      ]
    },
    {
      "cell_type": "markdown",
      "metadata": {
        "id": "_VyQJo7GE5Of"
      },
      "source": [
        "**using brute force, hyperparameter tuning - ploting k v/s AUROC for Validation dataset and Train dataset **"
      ]
    },
    {
      "cell_type": "code",
      "metadata": {
        "id": "zsNGLg_2E5_b",
        "colab": {
          "base_uri": "https://localhost:8080/",
          "height": 313
        },
        "outputId": "ce07a37f-7e75-495a-8fa7-31878e88684e"
      },
      "source": [
        "myList = list(range(3,61,2));\n",
        "\n",
        "tcvs = TimeSeriesSplit(n_splits = 10, max_train_size = round(final_50ktrain.shape[0]*0.9))\n",
        "ValMeanScore=[]; TrainMeanScore=[];\n",
        "\n",
        "for k in tqdm(myList) :\n",
        "    \n",
        "    ValScore=[];TrainScore=[];\n",
        "    knn = KNeighborsClassifier(n_neighbors=k ,algorithm = \"brute\")\n",
        "    \n",
        "    for train ,val in tcvs.split(final_50ktrain) :\n",
        "         \n",
        "        TrainW2V = W2V_Tfidf_Vectorizer(final_50ktrain.iloc[train]['CleanedText'].values, size = 50)\n",
        "        scaler = StandardScaler(with_mean = False)\n",
        "        scaler.fit_transform(TrainW2V)\n",
        "        \n",
        "        ValW2V = W2V_Tfidf_Vectorizer(final_50ktrain.iloc[val]['CleanedText'].values, size = 50)\n",
        "        scaler.transform(ValW2V)\n",
        "                \n",
        "        Ytrain_labels = final_50ktrain.iloc[train]['Score']\n",
        "        Yval_labels = final_50ktrain.iloc[val]['Score']\n",
        "        \n",
        "        knn.fit(TrainW2V, Ytrain_labels)\n",
        "        \n",
        "        predOnVal = knn.predict_proba(ValW2V)\n",
        "        predOnTrain = knn.predict_proba(TrainW2V)\n",
        "        \n",
        "        fpr,tpr,_ = roc_curve(Yval_labels, predOnVal[:,1])\n",
        "        AUCOnVal = auc(fpr,tpr)\n",
        "        fpr,tpr,_ = roc_curve(Ytrain_labels, predOnTrain[:,1])\n",
        "        AUCOnTrain = auc(fpr,tpr)\n",
        "        \n",
        "        ValScore.append(AUCOnVal)\n",
        "        TrainScore.append(AUCOnTrain)\n",
        "        \n",
        "    ValMeanScore.append((k,sum(ValScore)/len(ValScore)))\n",
        "    TrainMeanScore.append((k,sum(TrainScore)/len(TrainScore)))\n",
        "    \n",
        "ValMeanScore = dict(ValMeanScore)\n",
        "TrainMeanScore = dict(TrainMeanScore)\n",
        "\n",
        "plt.plot(ValMeanScore.keys(), ValMeanScore.values(), \"ro\", label = \"Performance on Validation Data\")\n",
        "plt.plot(TrainMeanScore.keys(), TrainMeanScore.values(), \"go\", label = \"Performance on Training Data\")\n",
        "plt.legend()\n",
        "plt.xlabel(\"k values\")\n",
        "plt.ylabel(\"AUROC score\")\n"
      ],
      "execution_count": null,
      "outputs": [
        {
          "output_type": "stream",
          "text": [
            "100%|██████████| 29/29 [3:32:51<00:00, 453.73s/it]\n"
          ],
          "name": "stderr"
        },
        {
          "output_type": "execute_result",
          "data": {
            "text/plain": [
              "Text(0, 0.5, 'AUROC score')"
            ]
          },
          "metadata": {
            "tags": []
          },
          "execution_count": 13
        },
        {
          "output_type": "display_data",
          "data": {
            "image/png": "[encoded data removed]",
            "text/plain": [
              "<Figure size 432x288 with 1 Axes>"
            ]
          },
          "metadata": {
            "tags": []
          }
        }
      ]
    },
    {
      "cell_type": "markdown",
      "metadata": {
        "id": "8efvencWE6zT"
      },
      "source": [
        "**Performance on Test Data with optimal k value , ROC Curves and Confusion Matrix**"
      ]
    },
    {
      "cell_type": "code",
      "metadata": {
        "id": "HK_nAK0UE7Me",
        "colab": {
          "base_uri": "https://localhost:8080/",
          "height": 593
        },
        "outputId": "ca05e62b-f3b8-468c-8a05-afc46d8449de"
      },
      "source": [
        "TrainW2V = W2V_Tfidf_Vectorizer(final_50ktrain['CleanedText'].values, size = 50)\n",
        "scaler = StandardScaler(with_mean = False)\n",
        "scaler.fit_transform(TrainW2V)\n",
        "\n",
        "TestW2V = W2V_Tfidf_Vectorizer(final_50ktest['CleanedText'].values, size = 50)\n",
        "scaler.transform(TestW2V)\n",
        "\n",
        "knn = KNeighborsClassifier(n_neighbors = 53 , algorithm = 'brute')\n",
        "\n",
        "knn.fit(TrainW2V, final_50ktrain['Score'])\n",
        "predOnTest = knn.predict_proba(TestW2V)\n",
        "predOnTrain = knn.predict_proba(TrainW2V)\n",
        "\n",
        "Trainfpr,Traintpr,Trthrsh = roc_curve(final_50ktrain['Score'], predOnTrain[:,1])\n",
        "train_auc = auc(Trainfpr,Traintpr)\n",
        "\n",
        "Testfpr,Testtpr,Tsthrsh = roc_curve(final_50ktest['Score'], predOnTest[:,1])\n",
        "test_auc = auc(Testfpr,Testtpr)\n",
        "\n",
        "\n",
        "print(\"*************************************************************************************\")\n",
        "print(\"Performance on test data and train is\", test_auc ,\"&\", train_auc,\"resp.\")\n",
        "print(\"*************************************************************************************\")\n",
        "\n",
        "## Ploting ROC curve\n",
        "plt.title('Receiver Operating Characteristic')\n",
        "plt.plot(Trainfpr, Traintpr, 'b', label = 'AUC for Train Data = %0.2f' % train_auc)\n",
        "plt.plot(Testfpr, Testtpr, 'r', label = 'AUC for Test Data = %0.2f' % test_auc)\n",
        "plt.legend(loc = 'lower right')\n",
        "plt.plot([0, 1], [0, 1],'r--')\n",
        "plt.xlim([0, 1])\n",
        "plt.ylim([0, 1])\n",
        "plt.ylabel('True Positive Rate')\n",
        "plt.xlabel('False Positive Rate')\n",
        "plt.show()\n",
        "\n",
        "best_t = find_best_threshold(Tsthrsh, Testfpr, Testtpr)\n",
        "\n",
        "print(\"*************************************************************************************\")\n",
        "\n",
        "class_names = [1,0]\n",
        "confMat=confusion_matrix(final_50ktest['Score'], predict_with_best_t(predOnTest[:,1], best_t), labels = class_names)\n",
        "df_cm = pd.DataFrame(confMat, index=class_names, columns=class_names)\n",
        "fig = plt.figure(figsize=(5,3))\n",
        "heatmap = sns.heatmap(df_cm, annot=True, fmt=\"d\")\n",
        "heatmap.yaxis.set_ticklabels(heatmap.yaxis.get_ticklabels(), rotation=0, ha='right', fontsize=14)\n",
        "heatmap.xaxis.set_ticklabels(heatmap.xaxis.get_ticklabels(), rotation=45, ha='right', fontsize=14)\n",
        "plt.ylabel('True label')\n",
        "plt.xlabel('Predicted label')\n",
        "plt.show()\n"
      ],
      "execution_count": null,
      "outputs": [
        {
          "output_type": "stream",
          "text": [
            "*************************************************************************************\n",
            "Performance on test data and train is 0.755817380458013 & 0.8664101651800149 resp.\n",
            "*************************************************************************************\n"
          ],
          "name": "stdout"
        },
        {
          "output_type": "display_data",
          "data": {
            "image/png": "[encoded data removed]",
            "text/plain": [
              "<Figure size 432x288 with 1 Axes>"
            ]
          },
          "metadata": {
            "tags": [],
            "needs_background": "light"
          }
        },
        {
          "output_type": "stream",
          "text": [
            "the maximum value of tpr*(1-fpr) 0.47964686268390394 for threshold 0.755\n",
            "*************************************************************************************\n"
          ],
          "name": "stdout"
        },
        {
          "output_type": "display_data",
          "data": {
            "image/png": "[encoded data removed]",
            "text/plain": [
              "<Figure size 360x216 with 2 Axes>"
            ]
          },
          "metadata": {
            "tags": [],
            "needs_background": "light"
          }
        }
      ]
    },
    {
      "cell_type": "markdown",
      "metadata": {
        "id": "lul7_tSdCsVK"
      },
      "source": [
        "#Final Results kNN for all different encoding schemes using  both \"kd tree\" & \"brute force\" ."
      ]
    },
    {
      "cell_type": "code",
      "metadata": {
        "id": "Z6hsytR_Cs7r",
        "colab": {
          "base_uri": "https://localhost:8080/",
          "height": 493
        },
        "outputId": "2d00095d-c3b2-4dd7-987d-69380f4bf5ff"
      },
      "source": [
        "x = PrettyTable([\"Vectorizer\",\"Variant\",\"AUROC\",\"Optimal k-values\",\"Time taken\"])\n",
        "\n",
        "x.add_row([\"BoW\",\"kd-tree(20k)\",\"0.808\",\"107\",\"698.79s/it\"])\n",
        "x.add_row([\"BoW\",\"brute force(50k)\",\"0.813\",\"89\",\"292.21s/it\"])\n",
        "x.add_row([\"Tf-idf\",\"kd-tree(20k)\",\"0.820\",\"95\",\"712.96s/it\"])\n",
        "x.add_row([\"Tf-idf\",\"brute force(50k)\",\"0.886\",\"117\",\"288.98s/it\"])\n",
        "x.add_row([\"Avg. W2V\",\"kd-tree(50k)\",\"0.816\",\"81\",\"848.45s/it\"])\n",
        "x.add_row([\"Avg. W2V\",\"brute force(50k)\",\"0.810\",\"99\",\"388.97s/it\"])\n",
        "x.add_row([\"Tf-idf Weighted W2V\",\"kd-tree(50k)\",\"0.783\",\"105\",\"809.43s/it\"])\n",
        "x.add_row([\"Tf-idf Weighted W2V\",\"brute force(50k)\",\"0.783\",\"123\",\"433.20s/it\"])\n",
        "\n",
        "x.align[\"Variant\"] = \"l\"\n",
        "x.align[\"Vectorizer\"] = \"l\"\n",
        "\n",
        "y = PrettyTable([\"Vectorizer\",\"Variant\",\"AUROC\",\"Optimal k-values\",\"Time taken\"])\n",
        "\n",
        "y.add_row([\"BoW\",\"kd-tree(20k)\",\"0.79\",\"59\",\"647.74s/it\"])\n",
        "y.add_row([\"BoW\",\"brute force(50k)\",\"0.76\",\"59\",\"247.92s/it\"])\n",
        "y.add_row([\"Tf-idf\",\"kd-tree(20k)\",\"0.81\",\"59\",\"716.56s/it\"])\n",
        "y.add_row([\"Tf-idf\",\"brute force(50k)\",\"0.86\",\"59\",\"254.35s/it\"])\n",
        "y.add_row([\"Avg. W2V\",\"kd-tree(50k)\",\"0.77\",\"59\",\"688.96s/it\"])\n",
        "y.add_row([\"Avg. W2V\",\"brute force(50k)\",\"0.72\",\"49\",\"349.43s/it\"])\n",
        "y.add_row([\"Tf-idf Weighted W2V\",\"kd-tree(50k)\",\"0.74\",\"57\",\"752.07s/it\"])\n",
        "y.add_row([\"Tf-idf Weighted W2V\",\"brute force(50k)\",\"0.74\",\"53\",\"453.73s/it\"])\n",
        "\n",
        "y.align[\"Variant\"] = \"l\"\n",
        "y.align[\"Vectorizer\"] = \"l\"\n",
        "\n",
        "print(\"*************************************************************************************************\")\n",
        "print(\"Results Summary for k in range of 31-120 in steps of 4\")\n",
        "print(x)\n",
        "\n",
        "print(\"*************************************************************************************************\")\n",
        "print(\"Results Summary for k in range of 3-60 in steps of 2\")\n",
        "print(y)"
      ],
      "execution_count": null,
      "outputs": [
        {
          "output_type": "stream",
          "text": [
            "*************************************************************************************************\n",
            "Results Summary for k in range of 31-120 in steps of 4\n",
            "+---------------------+------------------+-------+------------------+------------+\n",
            "| Vectorizer          | Variant          | AUROC | Optimal k-values | Time taken |\n",
            "+---------------------+------------------+-------+------------------+------------+\n",
            "| BoW                 | kd-tree(20k)     | 0.808 |       107        | 698.79s/it |\n",
            "| BoW                 | brute force(50k) | 0.813 |        89        | 292.21s/it |\n",
            "| Tf-idf              | kd-tree(20k)     | 0.820 |        95        | 712.96s/it |\n",
            "| Tf-idf              | brute force(50k) | 0.886 |       117        | 288.98s/it |\n",
            "| Avg. W2V            | kd-tree(50k)     | 0.816 |        81        | 848.45s/it |\n",
            "| Avg. W2V            | brute force(50k) | 0.810 |        99        | 388.97s/it |\n",
            "| Tf-idf Weighted W2V | kd-tree(50k)     | 0.783 |       105        | 809.43s/it |\n",
            "| Tf-idf Weighted W2V | brute force(50k) | 0.783 |       123        | 433.20s/it |\n",
            "+---------------------+------------------+-------+------------------+------------+\n",
            "*************************************************************************************************\n",
            "Results Summary for k in range of 3-60 in steps of 2\n",
            "+---------------------+------------------+-------+------------------+------------+\n",
            "| Vectorizer          | Variant          | AUROC | Optimal k-values | Time taken |\n",
            "+---------------------+------------------+-------+------------------+------------+\n",
            "| BoW                 | kd-tree(20k)     |  0.79 |        59        | 647.74s/it |\n",
            "| BoW                 | brute force(50k) |  0.76 |        59        | 247.92s/it |\n",
            "| Tf-idf              | kd-tree(20k)     |  0.81 |        59        | 716.56s/it |\n",
            "| Tf-idf              | brute force(50k) |  0.86 |        59        | 254.35s/it |\n",
            "| Avg. W2V            | kd-tree(50k)     |  0.77 |        59        | 688.96s/it |\n",
            "| Avg. W2V            | brute force(50k) |  0.72 |        49        | 349.43s/it |\n",
            "| Tf-idf Weighted W2V | kd-tree(50k)     |  0.74 |        57        | 752.07s/it |\n",
            "| Tf-idf Weighted W2V | brute force(50k) |  0.74 |        53        | 453.73s/it |\n",
            "+---------------------+------------------+-------+------------------+------------+\n"
          ],
          "name": "stdout"
        }
      ]
    }
  ]
}